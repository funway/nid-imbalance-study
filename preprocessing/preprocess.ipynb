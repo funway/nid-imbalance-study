{
  "nbformat": 4,
  "nbformat_minor": 0,
  "metadata": {
    "colab": {
      "provenance": [],
      "collapsed_sections": [
        "jz6jQFupNcIr"
      ],
      "include_colab_link": true
    },
    "kernelspec": {
      "name": "python3",
      "display_name": "Python 3"
    },
    "language_info": {
      "name": "python"
    }
  },
  "cells": [
    {
      "cell_type": "markdown",
      "metadata": {
        "id": "view-in-github",
        "colab_type": "text"
      },
      "source": [
        "<a href=\"https://colab.research.google.com/github/funway/nid-imbalance-study/blob/main/preprocessing/preprocess.ipynb\" target=\"_parent\"><img src=\"https://colab.research.google.com/assets/colab-badge.svg\" alt=\"Open In Colab\"/></a>"
      ]
    },
    {
      "cell_type": "markdown",
      "source": [
        "# CSE-CIC-IDS2018 数据集介绍\n",
        "\n",
        "🚀 NYIT 880 | 🧑🏻‍💻 funway"
      ],
      "metadata": {
        "id": "jz6jQFupNcIr"
      }
    },
    {
      "cell_type": "markdown",
      "source": [
        "## 1. 数据集下载\n",
        "使用 aws 命令行工具，从云存储中下载 CSV 文件:\n",
        "```\n",
        "aws s3 sync --no-sign-request --region us-east-2 \"s3://cse-cic-ids2018/Processed Traffic Data for ML Algorithms/\" ./\n",
        "```\n",
        "\n",
        "\n",
        "## 2. 数据集内容\n",
        "正常情况每个 csv 文件包含 80 列数据:\n",
        "- 79 列特征 (`features`)\n",
        "- 1 列结果标签 (`label`)\n",
        "\n",
        "### 2.1 特征项\n",
        "```\n",
        "['ACK Flag Cnt', 'Active Max', 'Active Mean', 'Active Min', 'Active Std', 'Bwd Blk Rate Avg', 'Bwd Byts/b Avg', 'Bwd Header Len', 'Bwd IAT Max', 'Bwd IAT Mean', 'Bwd IAT Min', 'Bwd IAT Std', 'Bwd IAT Tot', 'Bwd PSH Flags', 'Bwd Pkt Len Max', 'Bwd Pkt Len Mean', 'Bwd Pkt Len Min', 'Bwd Pkt Len Std', 'Bwd Pkts/b Avg', 'Bwd Pkts/s', 'Bwd Seg Size Avg', 'Bwd URG Flags', 'CWE Flag Count', 'Down/Up Ratio', 'Dst Port', 'ECE Flag Cnt', 'FIN Flag Cnt', 'Flow Byts/s', 'Flow Duration', 'Flow IAT Max', 'Flow IAT Mean', 'Flow IAT Min', 'Flow IAT Std', 'Flow Pkts/s', 'Fwd Act Data Pkts', 'Fwd Blk Rate Avg', 'Fwd Byts/b Avg', 'Fwd Header Len', 'Fwd IAT Max', 'Fwd IAT Mean', 'Fwd IAT Min', 'Fwd IAT Std', 'Fwd IAT Tot', 'Fwd PSH Flags', 'Fwd Pkt Len Max', 'Fwd Pkt Len Mean', 'Fwd Pkt Len Min', 'Fwd Pkt Len Std', 'Fwd Pkts/b Avg', 'Fwd Pkts/s', 'Fwd Seg Size Avg', 'Fwd Seg Size Min', 'Fwd URG Flags', 'Idle Max', 'Idle Mean', 'Idle Min', 'Idle Std', 'Init Bwd Win Byts', 'Init Fwd Win Byts', 'Label', 'PSH Flag Cnt', 'Pkt Len Max', 'Pkt Len Mean', 'Pkt Len Min', 'Pkt Len Std', 'Pkt Len Var', 'Pkt Size Avg', 'Protocol', 'RST Flag Cnt', 'SYN Flag Cnt', 'Subflow Bwd Byts', 'Subflow Bwd Pkts', 'Subflow Fwd Byts', 'Subflow Fwd Pkts', 'Timestamp', 'Tot Bwd Pkts', 'Tot Fwd Pkts', 'TotLen Bwd Pkts', 'TotLen Fwd Pkts', 'URG Flag Cnt']\n",
        "```\n",
        "\n",
        "**例外**:\n",
        "- 只有 Thuesday-20-02-2018_TrafficForML_CICFlowMeter.csv 文件多了 `['Dst IP', 'Src Port', 'Flow ID', 'Src IP']` 四个特征项, 需要删除。\n",
        "\n",
        "### 2.2 字符型特征\n",
        "只有 `Label` 特征是字符串，表示该行数据是某种类型的攻击。\n",
        "其余特征都是数值型。\n",
        "\n",
        "### 2.3 标签值\n",
        " Label 列共 15 种值:\n",
        " ```\n",
        " ['Benign', 'Bot', 'Brute Force -Web', 'Brute Force -XSS', 'DDOS attack-HOIC',\n",
        " 'DDOS attack-LOIC-UDP', 'DDoS attacks-LOIC-HTTP', 'DoS attacks-GoldenEye',\n",
        " 'DoS attacks-Hulk', 'DoS attacks-SlowHTTPTest', 'DoS attacks-Slowloris',\n",
        " 'FTP-BruteForce', 'Infilteration', 'SQL Injection', 'SSH-Bruteforce']\n",
        " ```"
      ],
      "metadata": {
        "id": "CcAzY9TCNgSF"
      }
    },
    {
      "cell_type": "markdown",
      "source": [
        "# CSE-CIC-IDS2018 数据集预处理\n",
        "\n",
        "🚀 NYIT 880 | 🧑🏻‍💻 funway\n"
      ],
      "metadata": {
        "id": "kHpVRWX6NpUW"
      }
    },
    {
      "cell_type": "code",
      "source": [
        "### 挂载 Google Drive ###\n",
        "import os\n",
        "from google.colab import drive\n",
        "\n",
        "if not os.path.exists('/content/drive/MyDrive'):\n",
        "    drive.mount('/content/drive')\n",
        "\n",
        "# 打印目录\n",
        "!ls -thl /content/drive/MyDrive/NYIT/880/"
      ],
      "metadata": {
        "colab": {
          "base_uri": "https://localhost:8080/"
        },
        "id": "1puthpauNo9J",
        "outputId": "742d8a9a-e309-4080-dac5-1e549ca3e995"
      },
      "execution_count": null,
      "outputs": [
        {
          "output_type": "stream",
          "name": "stdout",
          "text": [
            "total 16K\n",
            "drwx------ 2 root root 4.0K Jun  4 16:53 data\n",
            "drwx------ 2 root root 4.0K Jun  4 16:53 data_bak\n",
            "drwx------ 2 root root 4.0K May 28 05:33 code\n",
            "drwx------ 2 root root 4.0K May 28 05:31 dataset\n"
          ]
        }
      ]
    },
    {
      "cell_type": "code",
      "source": [
        "### Modules ###\n",
        "from pathlib import Path\n",
        "from datetime import datetime\n",
        "from collections import Counter\n",
        "import pandas as pd\n",
        "import numpy as np\n",
        "from sklearn.preprocessing import StandardScaler, MinMaxScaler, RobustScaler\n",
        "\n",
        "\n",
        "### Globals ###\n",
        "## 数据文件目录\n",
        "dataset = 'cse-cic-ids2018'\n",
        "project_folder = Path('/content/drive/MyDrive/NYIT/880')\n",
        "dataset_folder = project_folder / 'dataset' / dataset\n",
        "preprocessed_folder = project_folder / 'data/preprocessed'\n",
        "balanced_folder = project_folder / 'data/balanced'\n",
        "splits_folder = preprocessed_folder / 'splits'\n",
        "\n",
        "\n",
        "## csv 文件匹配\n",
        "csv_reg = '*.csv'\n",
        "csv_files = list(dataset_folder.rglob(csv_reg))\n",
        "for csv in csv_files:\n",
        "    print(f'csv file: {csv}, {type(csv)}')\n",
        "    pass\n",
        "\n",
        "## 无用的特征列\n",
        "cols_to_drop = ['Flow ID', 'Src IP', 'Dst IP', 'Src Port', 'Timestamp']\n",
        "\n",
        "## Label 列的所有可能值(有序)\n",
        "unique_labels = ['Benign', 'Bot', 'Brute Force -Web', 'Brute Force -XSS', 'DDOS attack-HOIC', 'DDOS attack-LOIC-UDP', 'DDoS attacks-LOIC-HTTP', 'DoS attacks-GoldenEye', 'DoS attacks-Hulk', 'DoS attacks-SlowHTTPTest', 'DoS attacks-Slowloris', 'FTP-BruteForce', 'Infilteration', 'SQL Injection', 'SSH-Bruteforce']\n",
        "label_mapping = {label: idx for idx, label in enumerate(unique_labels)}\n",
        "print(f\"[{datetime.now().strftime('%x %X')}] 🏷️ Label mapping: {label_mapping}\")\n",
        "\n",
        "\n",
        "### Utilities ###\n",
        "def get_label_counts(y: np.ndarray) -> dict[int, int]:\n",
        "  return {int(k): v for k, v in sorted(Counter(y).items())}"
      ],
      "metadata": {
        "colab": {
          "base_uri": "https://localhost:8080/"
        },
        "id": "KmIBEJYcOcXV",
        "outputId": "d35c9982-94dc-42aa-8b59-d4de7fa3ebf6"
      },
      "execution_count": null,
      "outputs": [
        {
          "output_type": "stream",
          "name": "stdout",
          "text": [
            "csv file: /content/drive/MyDrive/NYIT/880/dataset/cse-cic-ids2018/Friday-02-03-2018_TrafficForML_CICFlowMeter.csv, <class 'pathlib.PosixPath'>\n",
            "csv file: /content/drive/MyDrive/NYIT/880/dataset/cse-cic-ids2018/Friday-16-02-2018_TrafficForML_CICFlowMeter.csv, <class 'pathlib.PosixPath'>\n",
            "csv file: /content/drive/MyDrive/NYIT/880/dataset/cse-cic-ids2018/Friday-23-02-2018_TrafficForML_CICFlowMeter.csv, <class 'pathlib.PosixPath'>\n",
            "csv file: /content/drive/MyDrive/NYIT/880/dataset/cse-cic-ids2018/Thursday-01-03-2018_TrafficForML_CICFlowMeter.csv, <class 'pathlib.PosixPath'>\n",
            "csv file: /content/drive/MyDrive/NYIT/880/dataset/cse-cic-ids2018/Thursday-15-02-2018_TrafficForML_CICFlowMeter.csv, <class 'pathlib.PosixPath'>\n",
            "csv file: /content/drive/MyDrive/NYIT/880/dataset/cse-cic-ids2018/Thursday-22-02-2018_TrafficForML_CICFlowMeter.csv, <class 'pathlib.PosixPath'>\n",
            "csv file: /content/drive/MyDrive/NYIT/880/dataset/cse-cic-ids2018/Wednesday-14-02-2018_TrafficForML_CICFlowMeter.csv, <class 'pathlib.PosixPath'>\n",
            "csv file: /content/drive/MyDrive/NYIT/880/dataset/cse-cic-ids2018/Wednesday-21-02-2018_TrafficForML_CICFlowMeter.csv, <class 'pathlib.PosixPath'>\n",
            "csv file: /content/drive/MyDrive/NYIT/880/dataset/cse-cic-ids2018/Wednesday-28-02-2018_TrafficForML_CICFlowMeter.csv, <class 'pathlib.PosixPath'>\n",
            "csv file: /content/drive/MyDrive/NYIT/880/dataset/cse-cic-ids2018/Thuesday-20-02-2018_TrafficForML_CICFlowMeter.csv, <class 'pathlib.PosixPath'>\n",
            "[06/04/25 17:44:44] 🏷️ Label mapping: {'Benign': 0, 'Bot': 1, 'Brute Force -Web': 2, 'Brute Force -XSS': 3, 'DDOS attack-HOIC': 4, 'DDOS attack-LOIC-UDP': 5, 'DDoS attacks-LOIC-HTTP': 6, 'DoS attacks-GoldenEye': 7, 'DoS attacks-Hulk': 8, 'DoS attacks-SlowHTTPTest': 9, 'DoS attacks-Slowloris': 10, 'FTP-BruteForce': 11, 'Infilteration': 12, 'SQL Injection': 13, 'SSH-Bruteforce': 14}\n"
          ]
        }
      ]
    },
    {
      "cell_type": "markdown",
      "source": [
        "## Get all unique labels"
      ],
      "metadata": {
        "id": "4h5F0oeEZmti"
      }
    },
    {
      "cell_type": "code",
      "source": [
        "## 获取 Label 的所有可能值 ##\n",
        "\n",
        "# unique_labels = []\n",
        "\n",
        "if not unique_labels:\n",
        "    all_labels_count = {}  # 统计所有 csv 文件的 labels 种类与数量\n",
        "\n",
        "    # 遍历每个 csv 文件\n",
        "    for csv in csv_files:\n",
        "        print(f'Reading csv file: {Path(csv).name}')\n",
        "\n",
        "        csv_labels_count = {}  # 统计当前 CSV 文件的 labels 数量\n",
        "\n",
        "        # 分块读取\n",
        "        chunk_size = 100000\n",
        "        for chunk in pd.read_csv(csv, usecols=['Label'], chunksize=chunk_size):\n",
        "            if 'Label' in chunk.columns:\n",
        "                # 统计当前 chunk 的 labels 种类与数量，返回 {'Benign': 100, 'Bot': 99} 字典\n",
        "                chunk_labels_count = chunk['Label'].value_counts().to_dict()\n",
        "\n",
        "                for label, count in chunk_labels_count.items():\n",
        "                    # 更新当前 csv 文件的 labels 统计\n",
        "                    csv_labels_count[label] = csv_labels_count.get(label, 0) + count\n",
        "\n",
        "                    # 更新所有 csv 文件的 labels 统计\n",
        "                    all_labels_count[label] = all_labels_count.get(label, 0) + count\n",
        "\n",
        "        # 打印当前 csv 的 unique labels\n",
        "        print(f'  unique labels: [{len(csv_labels_count)}], {dict(sorted(csv_labels_count.items()))}\\n')\n",
        "        pass\n",
        "\n",
        "    # 打印所有的 unique labels\n",
        "    print(f'All unique labels count: [{len(all_labels_count)}] \\n{dict(sorted(all_labels_count.items()))}\\n')\n",
        "\n",
        "    # 如果 'Label' 存在则删除\n",
        "    all_labels_count.pop('Label', None)\n",
        "\n",
        "    # 转换成有序列表\n",
        "    unique_labels = sorted(all_labels_count.keys())\n",
        "    label_mapping = {label: idx for idx, label in enumerate(unique_labels)}\n",
        "\n",
        "    print(f\"[{datetime.now().strftime('%x %X')}] All unique labels: [{len(label_mapping)}] (removed 'Label')\\n{label_mapping}\", )\n",
        "else:\n",
        "    print(f\"[{datetime.now().strftime('%x %X')}] unique_labels has been set: [{len(label_mapping)}]\\n{label_mapping}\")"
      ],
      "metadata": {
        "colab": {
          "base_uri": "https://localhost:8080/"
        },
        "id": "eR9wRXmdSFO_",
        "outputId": "dab47544-31d0-4181-e34e-310b6d145e29"
      },
      "execution_count": null,
      "outputs": [
        {
          "output_type": "stream",
          "name": "stdout",
          "text": [
            "[06/04/25 17:31:08] unique_labels has been set: [15]\n",
            "{'Benign': 0, 'Bot': 1, 'Brute Force -Web': 2, 'Brute Force -XSS': 3, 'DDOS attack-HOIC': 4, 'DDOS attack-LOIC-UDP': 5, 'DDoS attacks-LOIC-HTTP': 6, 'DoS attacks-GoldenEye': 7, 'DoS attacks-Hulk': 8, 'DoS attacks-SlowHTTPTest': 9, 'DoS attacks-Slowloris': 10, 'FTP-BruteForce': 11, 'Infilteration': 12, 'SQL Injection': 13, 'SSH-Bruteforce': 14}\n"
          ]
        }
      ]
    },
    {
      "cell_type": "markdown",
      "source": [
        "## Data Cleaning 数据清洗\n",
        "1. 删除无用特征列\n",
        "2. 删除异常行(行数据为列名)\n",
        "3. 数值型特征列 类型转换为 float32 (异常值转换为 NaN)\n",
        "4. 处理 Inf 值 (删除行)\n",
        "5. 处理 NaN 值 (删除行)\n",
        "6. 标签列进行数值化编码\n",
        "\n"
      ],
      "metadata": {
        "id": "G_ezQnmoplCS"
      }
    },
    {
      "cell_type": "code",
      "source": [
        "cleaned_folder = preprocessed_folder / 'cleaned.parquet'\n",
        "reclean = False\n",
        "\n",
        "if not cleaned_folder.exists() or reclean:\n",
        "    # 确保目录存在\n",
        "    cleaned_folder.mkdir(parents=True, exist_ok=True)\n",
        "\n",
        "    for i, csv in enumerate(csv_files):\n",
        "        # 加载文件\n",
        "        print(f\"[{datetime.now().strftime('%x %X')}] Loading csv file [{i+1}]: {csv.name}\")\n",
        "        df = pd.read_csv(csv, nrows=None, low_memory=False)\n",
        "        print(f'  包含[{len(df.columns)}]列特征: {sorted(df.columns.tolist())}')\n",
        "        print(f\"  Label 列的值: {df['Label'].value_counts().to_dict()}\")\n",
        "\n",
        "\n",
        "        ## 删除部分无用的特征列 ##\n",
        "        cols_to_drop_exist = [col for col in cols_to_drop if col in df.columns]\n",
        "        df = df.drop(cols_to_drop_exist, axis=1)  # axis=1 表示删除列\n",
        "        print(f'  ❎ 删除部分无用的特征列: {cols_to_drop_exist}')\n",
        "        print(f'    删除后剩余[{len(df.columns)}]列特征')\n",
        "\n",
        "\n",
        "        ## 删除 Label 列的值等于 'Label' 的行 ##\n",
        "        # 因为有几个文件在某些行出现了一整行的特征名\n",
        "        if 'Label' in df.columns and ('Label' in df['Label'].values):\n",
        "            df = df[df['Label'] != 'Label']\n",
        "            print(f'  ❎ 删除其中 Label 列的值等于 \"Label\" 的行')\n",
        "            print(f\"    删除后 Label 列的值: {df['Label'].value_counts().to_dict()}\")\n",
        "\n",
        "\n",
        "        ## 数值列特征转换成 数值类型 而不是 object 类型 ##\n",
        "        print(f'  🔁 数值特征类型转换 ⇨ float32')\n",
        "        # 提取数值特征列，排除 'Label' 列\n",
        "        features = df.columns.difference(['Label'])\n",
        "        # 对数值特征列进行数值转换(无法转换成数值的，强制设为 NaN)\n",
        "        df[features] = df[features].apply(pd.to_numeric, errors='coerce').astype('float32')\n",
        "\n",
        "\n",
        "        ## 处理 Inf 值 ##\n",
        "        print(f'  ⚠️ 处理 Inf 值. 当前 shape={df.shape}')\n",
        "        print(f'    正无穷 (+Inf) 数量: {(df == np.inf).sum().sum()}, 负无穷 (-Inf) 数量: {(df == -np.inf).sum().sum()}')\n",
        "        # 方法一: 删除该行\n",
        "        df = df[~df.isin([np.inf, -np.inf]).any(axis=1)]\n",
        "        df.reset_index(drop=True, inplace=True)\n",
        "\n",
        "        # 方法二: 替换为对应列的最大/最小值\n",
        "        # max_value = df.replace([np.inf, -np.inf], np.nan).max()\n",
        "        # min_value = df.replace([np.inf, -np.inf], np.nan).min()\n",
        "        # df.replace(np.inf, max_value, inplace=True)\n",
        "        # df.replace(-np.inf, min_value, inplace=True)\n",
        "        # 方法三: 替换成 NaN\n",
        "        # df = df.replace([np.inf, -np.inf], np.nan)\n",
        "\n",
        "        print(f'    处理后 shape={df.shape}')\n",
        "\n",
        "\n",
        "        ## 处理 NaN 值 ##\n",
        "        print(f'  ⚠️ 处理 NaN 值. 包含 NaN 个数: {df.isna().sum().sum()}')\n",
        "        # 方法一: 删除该行\n",
        "        df.dropna(inplace=True)\n",
        "        df.reset_index(drop=True, inplace=True)\n",
        "        # 方法二: 填充值\n",
        "        # df['Label'] = df['Label'].fillna('Benign')  # 填充 Label 列\n",
        "        # df = df.fillna(0)  # 填充其他列\n",
        "        print(f'    处理后 shape={df.shape}')\n",
        "\n",
        "\n",
        "        ## 对 Label 标签列进行数值化编码 ##\n",
        "        print(f\"  🔁 标签列数值化编码 Numericalization Encoding...\")\n",
        "        def encode_label(label):\n",
        "            if label in label_mapping:\n",
        "                return label_mapping[label]\n",
        "            else:\n",
        "                raise ValueError(f\"Unknown label '{label}' encountered during encoding.\")\n",
        "\n",
        "        print(f\"    转换前 Label 列的值: {df['Label'].value_counts().to_dict()}\")\n",
        "        df['Label'] = df['Label'].apply(encode_label).astype('int32')\n",
        "        print(f\"    转换后 Label 列的值: {df['Label'].value_counts().to_dict()}\")\n",
        "\n",
        "\n",
        "        ## 保存文件 ##\n",
        "        # df.to_csv('combined.csv', mode='a', header=(i==0), index=False)\n",
        "        output_file = cleaned_folder / f'part-{i+1:03d}.parquet'\n",
        "        df.to_parquet(output_file, index=False)\n",
        "        print(f\"[{datetime.now().strftime('%x %X')}] 💾 保存文件 [{i+1}]: {csv.name} >> {output_file}\")\n",
        "\n",
        "        print(\"-------------------------\")\n",
        "else:\n",
        "    print(f\"[{datetime.now().strftime('%x %X')}] ⏭️ {cleaned_folder} 已存在, 跳过该步骤\")"
      ],
      "metadata": {
        "colab": {
          "base_uri": "https://localhost:8080/"
        },
        "id": "749tdpJTZ3we",
        "outputId": "fe013bee-6d38-4716-d031-293f9acd690f"
      },
      "execution_count": null,
      "outputs": [
        {
          "output_type": "stream",
          "name": "stdout",
          "text": [
            "[06/04/25 17:31:15] Loading csv file [1]: Friday-02-03-2018_TrafficForML_CICFlowMeter.csv\n",
            "  包含[80]列特征: ['ACK Flag Cnt', 'Active Max', 'Active Mean', 'Active Min', 'Active Std', 'Bwd Blk Rate Avg', 'Bwd Byts/b Avg', 'Bwd Header Len', 'Bwd IAT Max', 'Bwd IAT Mean', 'Bwd IAT Min', 'Bwd IAT Std', 'Bwd IAT Tot', 'Bwd PSH Flags', 'Bwd Pkt Len Max', 'Bwd Pkt Len Mean', 'Bwd Pkt Len Min', 'Bwd Pkt Len Std', 'Bwd Pkts/b Avg', 'Bwd Pkts/s', 'Bwd Seg Size Avg', 'Bwd URG Flags', 'CWE Flag Count', 'Down/Up Ratio', 'Dst Port', 'ECE Flag Cnt', 'FIN Flag Cnt', 'Flow Byts/s', 'Flow Duration', 'Flow IAT Max', 'Flow IAT Mean', 'Flow IAT Min', 'Flow IAT Std', 'Flow Pkts/s', 'Fwd Act Data Pkts', 'Fwd Blk Rate Avg', 'Fwd Byts/b Avg', 'Fwd Header Len', 'Fwd IAT Max', 'Fwd IAT Mean', 'Fwd IAT Min', 'Fwd IAT Std', 'Fwd IAT Tot', 'Fwd PSH Flags', 'Fwd Pkt Len Max', 'Fwd Pkt Len Mean', 'Fwd Pkt Len Min', 'Fwd Pkt Len Std', 'Fwd Pkts/b Avg', 'Fwd Pkts/s', 'Fwd Seg Size Avg', 'Fwd Seg Size Min', 'Fwd URG Flags', 'Idle Max', 'Idle Mean', 'Idle Min', 'Idle Std', 'Init Bwd Win Byts', 'Init Fwd Win Byts', 'Label', 'PSH Flag Cnt', 'Pkt Len Max', 'Pkt Len Mean', 'Pkt Len Min', 'Pkt Len Std', 'Pkt Len Var', 'Pkt Size Avg', 'Protocol', 'RST Flag Cnt', 'SYN Flag Cnt', 'Subflow Bwd Byts', 'Subflow Bwd Pkts', 'Subflow Fwd Byts', 'Subflow Fwd Pkts', 'Timestamp', 'Tot Bwd Pkts', 'Tot Fwd Pkts', 'TotLen Bwd Pkts', 'TotLen Fwd Pkts', 'URG Flag Cnt']\n",
            "  Label 列的值: {'Benign': 762384, 'Bot': 286191}\n",
            "  ❎ 删除部分无用的特征列: ['Timestamp']\n",
            "    删除后剩余[79]列特征\n",
            "  🔁 数值特征类型转换 ⇨ float32\n",
            "  ⚠️ 处理 Inf 值. 当前 shape=(1048575, 79)\n",
            "    正无穷 (+Inf) 数量: 5542, 负无穷 (-Inf) 数量: 0\n",
            "    处理后 shape=(1044525, 79)\n",
            "  ⚠️ 处理 NaN 值. 包含 NaN 个数: 0\n",
            "    处理后 shape=(1044525, 79)\n",
            "  🔁 标签列数值化编码 Numericalization Encoding...\n",
            "    转换前 Label 列的值: {'Benign': 758334, 'Bot': 286191}\n",
            "    转换后 Label 列的值: {0: 758334, 1: 286191}\n",
            "[06/04/25 17:32:04] 💾 保存文件 [1]: Friday-02-03-2018_TrafficForML_CICFlowMeter.csv >> /content/drive/MyDrive/NYIT/880/data/preprocessed/cleaned.parquet/part-001.parquet\n",
            "-------------------------\n",
            "[06/04/25 17:32:04] Loading csv file [2]: Friday-16-02-2018_TrafficForML_CICFlowMeter.csv\n",
            "  包含[80]列特征: ['ACK Flag Cnt', 'Active Max', 'Active Mean', 'Active Min', 'Active Std', 'Bwd Blk Rate Avg', 'Bwd Byts/b Avg', 'Bwd Header Len', 'Bwd IAT Max', 'Bwd IAT Mean', 'Bwd IAT Min', 'Bwd IAT Std', 'Bwd IAT Tot', 'Bwd PSH Flags', 'Bwd Pkt Len Max', 'Bwd Pkt Len Mean', 'Bwd Pkt Len Min', 'Bwd Pkt Len Std', 'Bwd Pkts/b Avg', 'Bwd Pkts/s', 'Bwd Seg Size Avg', 'Bwd URG Flags', 'CWE Flag Count', 'Down/Up Ratio', 'Dst Port', 'ECE Flag Cnt', 'FIN Flag Cnt', 'Flow Byts/s', 'Flow Duration', 'Flow IAT Max', 'Flow IAT Mean', 'Flow IAT Min', 'Flow IAT Std', 'Flow Pkts/s', 'Fwd Act Data Pkts', 'Fwd Blk Rate Avg', 'Fwd Byts/b Avg', 'Fwd Header Len', 'Fwd IAT Max', 'Fwd IAT Mean', 'Fwd IAT Min', 'Fwd IAT Std', 'Fwd IAT Tot', 'Fwd PSH Flags', 'Fwd Pkt Len Max', 'Fwd Pkt Len Mean', 'Fwd Pkt Len Min', 'Fwd Pkt Len Std', 'Fwd Pkts/b Avg', 'Fwd Pkts/s', 'Fwd Seg Size Avg', 'Fwd Seg Size Min', 'Fwd URG Flags', 'Idle Max', 'Idle Mean', 'Idle Min', 'Idle Std', 'Init Bwd Win Byts', 'Init Fwd Win Byts', 'Label', 'PSH Flag Cnt', 'Pkt Len Max', 'Pkt Len Mean', 'Pkt Len Min', 'Pkt Len Std', 'Pkt Len Var', 'Pkt Size Avg', 'Protocol', 'RST Flag Cnt', 'SYN Flag Cnt', 'Subflow Bwd Byts', 'Subflow Bwd Pkts', 'Subflow Fwd Byts', 'Subflow Fwd Pkts', 'Timestamp', 'Tot Bwd Pkts', 'Tot Fwd Pkts', 'TotLen Bwd Pkts', 'TotLen Fwd Pkts', 'URG Flag Cnt']\n",
            "  Label 列的值: {'DoS attacks-Hulk': 461912, 'Benign': 446772, 'DoS attacks-SlowHTTPTest': 139890, 'Label': 1}\n",
            "  ❎ 删除部分无用的特征列: ['Timestamp']\n",
            "    删除后剩余[79]列特征\n",
            "  ❎ 删除其中 Label 列的值等于 \"Label\" 的行\n",
            "    删除后 Label 列的值: {'DoS attacks-Hulk': 461912, 'Benign': 446772, 'DoS attacks-SlowHTTPTest': 139890}\n",
            "  🔁 数值特征类型转换 ⇨ float32\n",
            "  ⚠️ 处理 Inf 值. 当前 shape=(1048574, 79)\n",
            "    正无穷 (+Inf) 数量: 0, 负无穷 (-Inf) 数量: 0\n",
            "    处理后 shape=(1048574, 79)\n",
            "  ⚠️ 处理 NaN 值. 包含 NaN 个数: 0\n",
            "    处理后 shape=(1048574, 79)\n",
            "  🔁 标签列数值化编码 Numericalization Encoding...\n",
            "    转换前 Label 列的值: {'DoS attacks-Hulk': 461912, 'Benign': 446772, 'DoS attacks-SlowHTTPTest': 139890}\n",
            "    转换后 Label 列的值: {8: 461912, 0: 446772, 9: 139890}\n",
            "[06/04/25 17:33:56] 💾 保存文件 [2]: Friday-16-02-2018_TrafficForML_CICFlowMeter.csv >> /content/drive/MyDrive/NYIT/880/data/preprocessed/cleaned.parquet/part-002.parquet\n",
            "-------------------------\n",
            "[06/04/25 17:33:56] Loading csv file [3]: Friday-23-02-2018_TrafficForML_CICFlowMeter.csv\n",
            "  包含[80]列特征: ['ACK Flag Cnt', 'Active Max', 'Active Mean', 'Active Min', 'Active Std', 'Bwd Blk Rate Avg', 'Bwd Byts/b Avg', 'Bwd Header Len', 'Bwd IAT Max', 'Bwd IAT Mean', 'Bwd IAT Min', 'Bwd IAT Std', 'Bwd IAT Tot', 'Bwd PSH Flags', 'Bwd Pkt Len Max', 'Bwd Pkt Len Mean', 'Bwd Pkt Len Min', 'Bwd Pkt Len Std', 'Bwd Pkts/b Avg', 'Bwd Pkts/s', 'Bwd Seg Size Avg', 'Bwd URG Flags', 'CWE Flag Count', 'Down/Up Ratio', 'Dst Port', 'ECE Flag Cnt', 'FIN Flag Cnt', 'Flow Byts/s', 'Flow Duration', 'Flow IAT Max', 'Flow IAT Mean', 'Flow IAT Min', 'Flow IAT Std', 'Flow Pkts/s', 'Fwd Act Data Pkts', 'Fwd Blk Rate Avg', 'Fwd Byts/b Avg', 'Fwd Header Len', 'Fwd IAT Max', 'Fwd IAT Mean', 'Fwd IAT Min', 'Fwd IAT Std', 'Fwd IAT Tot', 'Fwd PSH Flags', 'Fwd Pkt Len Max', 'Fwd Pkt Len Mean', 'Fwd Pkt Len Min', 'Fwd Pkt Len Std', 'Fwd Pkts/b Avg', 'Fwd Pkts/s', 'Fwd Seg Size Avg', 'Fwd Seg Size Min', 'Fwd URG Flags', 'Idle Max', 'Idle Mean', 'Idle Min', 'Idle Std', 'Init Bwd Win Byts', 'Init Fwd Win Byts', 'Label', 'PSH Flag Cnt', 'Pkt Len Max', 'Pkt Len Mean', 'Pkt Len Min', 'Pkt Len Std', 'Pkt Len Var', 'Pkt Size Avg', 'Protocol', 'RST Flag Cnt', 'SYN Flag Cnt', 'Subflow Bwd Byts', 'Subflow Bwd Pkts', 'Subflow Fwd Byts', 'Subflow Fwd Pkts', 'Timestamp', 'Tot Bwd Pkts', 'Tot Fwd Pkts', 'TotLen Bwd Pkts', 'TotLen Fwd Pkts', 'URG Flag Cnt']\n",
            "  Label 列的值: {'Benign': 1048009, 'Brute Force -Web': 362, 'Brute Force -XSS': 151, 'SQL Injection': 53}\n",
            "  ❎ 删除部分无用的特征列: ['Timestamp']\n",
            "    删除后剩余[79]列特征\n",
            "  🔁 数值特征类型转换 ⇨ float32\n",
            "  ⚠️ 处理 Inf 值. 当前 shape=(1048575, 79)\n",
            "    正无穷 (+Inf) 数量: 7662, 负无穷 (-Inf) 数量: 0\n",
            "    处理后 shape=(1042867, 79)\n",
            "  ⚠️ 处理 NaN 值. 包含 NaN 个数: 0\n",
            "    处理后 shape=(1042867, 79)\n",
            "  🔁 标签列数值化编码 Numericalization Encoding...\n",
            "    转换前 Label 列的值: {'Benign': 1042301, 'Brute Force -Web': 362, 'Brute Force -XSS': 151, 'SQL Injection': 53}\n",
            "    转换后 Label 列的值: {0: 1042301, 2: 362, 3: 151, 13: 53}\n",
            "[06/04/25 17:34:38] 💾 保存文件 [3]: Friday-23-02-2018_TrafficForML_CICFlowMeter.csv >> /content/drive/MyDrive/NYIT/880/data/preprocessed/cleaned.parquet/part-003.parquet\n",
            "-------------------------\n",
            "[06/04/25 17:34:38] Loading csv file [4]: Thursday-01-03-2018_TrafficForML_CICFlowMeter.csv\n",
            "  包含[80]列特征: ['ACK Flag Cnt', 'Active Max', 'Active Mean', 'Active Min', 'Active Std', 'Bwd Blk Rate Avg', 'Bwd Byts/b Avg', 'Bwd Header Len', 'Bwd IAT Max', 'Bwd IAT Mean', 'Bwd IAT Min', 'Bwd IAT Std', 'Bwd IAT Tot', 'Bwd PSH Flags', 'Bwd Pkt Len Max', 'Bwd Pkt Len Mean', 'Bwd Pkt Len Min', 'Bwd Pkt Len Std', 'Bwd Pkts/b Avg', 'Bwd Pkts/s', 'Bwd Seg Size Avg', 'Bwd URG Flags', 'CWE Flag Count', 'Down/Up Ratio', 'Dst Port', 'ECE Flag Cnt', 'FIN Flag Cnt', 'Flow Byts/s', 'Flow Duration', 'Flow IAT Max', 'Flow IAT Mean', 'Flow IAT Min', 'Flow IAT Std', 'Flow Pkts/s', 'Fwd Act Data Pkts', 'Fwd Blk Rate Avg', 'Fwd Byts/b Avg', 'Fwd Header Len', 'Fwd IAT Max', 'Fwd IAT Mean', 'Fwd IAT Min', 'Fwd IAT Std', 'Fwd IAT Tot', 'Fwd PSH Flags', 'Fwd Pkt Len Max', 'Fwd Pkt Len Mean', 'Fwd Pkt Len Min', 'Fwd Pkt Len Std', 'Fwd Pkts/b Avg', 'Fwd Pkts/s', 'Fwd Seg Size Avg', 'Fwd Seg Size Min', 'Fwd URG Flags', 'Idle Max', 'Idle Mean', 'Idle Min', 'Idle Std', 'Init Bwd Win Byts', 'Init Fwd Win Byts', 'Label', 'PSH Flag Cnt', 'Pkt Len Max', 'Pkt Len Mean', 'Pkt Len Min', 'Pkt Len Std', 'Pkt Len Var', 'Pkt Size Avg', 'Protocol', 'RST Flag Cnt', 'SYN Flag Cnt', 'Subflow Bwd Byts', 'Subflow Bwd Pkts', 'Subflow Fwd Byts', 'Subflow Fwd Pkts', 'Timestamp', 'Tot Bwd Pkts', 'Tot Fwd Pkts', 'TotLen Bwd Pkts', 'TotLen Fwd Pkts', 'URG Flag Cnt']\n",
            "  Label 列的值: {'Benign': 238037, 'Infilteration': 93063, 'Label': 25}\n",
            "  ❎ 删除部分无用的特征列: ['Timestamp']\n",
            "    删除后剩余[79]列特征\n",
            "  ❎ 删除其中 Label 列的值等于 \"Label\" 的行\n",
            "    删除后 Label 列的值: {'Benign': 238037, 'Infilteration': 93063}\n",
            "  🔁 数值特征类型转换 ⇨ float32\n",
            "  ⚠️ 处理 Inf 值. 当前 shape=(331100, 79)\n",
            "    正无穷 (+Inf) 数量: 4004, 负无穷 (-Inf) 数量: 0\n",
            "    处理后 shape=(328181, 79)\n",
            "  ⚠️ 处理 NaN 值. 包含 NaN 个数: 0\n",
            "    处理后 shape=(328181, 79)\n",
            "  🔁 标签列数值化编码 Numericalization Encoding...\n",
            "    转换前 Label 列的值: {'Benign': 235778, 'Infilteration': 92403}\n",
            "    转换后 Label 列的值: {0: 235778, 12: 92403}\n",
            "[06/04/25 17:35:10] 💾 保存文件 [4]: Thursday-01-03-2018_TrafficForML_CICFlowMeter.csv >> /content/drive/MyDrive/NYIT/880/data/preprocessed/cleaned.parquet/part-004.parquet\n",
            "-------------------------\n",
            "[06/04/25 17:35:10] Loading csv file [5]: Thursday-15-02-2018_TrafficForML_CICFlowMeter.csv\n",
            "  包含[80]列特征: ['ACK Flag Cnt', 'Active Max', 'Active Mean', 'Active Min', 'Active Std', 'Bwd Blk Rate Avg', 'Bwd Byts/b Avg', 'Bwd Header Len', 'Bwd IAT Max', 'Bwd IAT Mean', 'Bwd IAT Min', 'Bwd IAT Std', 'Bwd IAT Tot', 'Bwd PSH Flags', 'Bwd Pkt Len Max', 'Bwd Pkt Len Mean', 'Bwd Pkt Len Min', 'Bwd Pkt Len Std', 'Bwd Pkts/b Avg', 'Bwd Pkts/s', 'Bwd Seg Size Avg', 'Bwd URG Flags', 'CWE Flag Count', 'Down/Up Ratio', 'Dst Port', 'ECE Flag Cnt', 'FIN Flag Cnt', 'Flow Byts/s', 'Flow Duration', 'Flow IAT Max', 'Flow IAT Mean', 'Flow IAT Min', 'Flow IAT Std', 'Flow Pkts/s', 'Fwd Act Data Pkts', 'Fwd Blk Rate Avg', 'Fwd Byts/b Avg', 'Fwd Header Len', 'Fwd IAT Max', 'Fwd IAT Mean', 'Fwd IAT Min', 'Fwd IAT Std', 'Fwd IAT Tot', 'Fwd PSH Flags', 'Fwd Pkt Len Max', 'Fwd Pkt Len Mean', 'Fwd Pkt Len Min', 'Fwd Pkt Len Std', 'Fwd Pkts/b Avg', 'Fwd Pkts/s', 'Fwd Seg Size Avg', 'Fwd Seg Size Min', 'Fwd URG Flags', 'Idle Max', 'Idle Mean', 'Idle Min', 'Idle Std', 'Init Bwd Win Byts', 'Init Fwd Win Byts', 'Label', 'PSH Flag Cnt', 'Pkt Len Max', 'Pkt Len Mean', 'Pkt Len Min', 'Pkt Len Std', 'Pkt Len Var', 'Pkt Size Avg', 'Protocol', 'RST Flag Cnt', 'SYN Flag Cnt', 'Subflow Bwd Byts', 'Subflow Bwd Pkts', 'Subflow Fwd Byts', 'Subflow Fwd Pkts', 'Timestamp', 'Tot Bwd Pkts', 'Tot Fwd Pkts', 'TotLen Bwd Pkts', 'TotLen Fwd Pkts', 'URG Flag Cnt']\n",
            "  Label 列的值: {'Benign': 996077, 'DoS attacks-GoldenEye': 41508, 'DoS attacks-Slowloris': 10990}\n",
            "  ❎ 删除部分无用的特征列: ['Timestamp']\n",
            "    删除后剩余[79]列特征\n",
            "  🔁 数值特征类型转换 ⇨ float32\n",
            "  ⚠️ 处理 Inf 值. 当前 shape=(1048575, 79)\n",
            "    正无穷 (+Inf) 数量: 11133, 负无穷 (-Inf) 数量: 0\n",
            "    处理后 shape=(1040548, 79)\n",
            "  ⚠️ 处理 NaN 值. 包含 NaN 个数: 0\n",
            "    处理后 shape=(1040548, 79)\n",
            "  🔁 标签列数值化编码 Numericalization Encoding...\n",
            "    转换前 Label 列的值: {'Benign': 988050, 'DoS attacks-GoldenEye': 41508, 'DoS attacks-Slowloris': 10990}\n",
            "    转换后 Label 列的值: {0: 988050, 7: 41508, 10: 10990}\n",
            "[06/04/25 17:35:47] 💾 保存文件 [5]: Thursday-15-02-2018_TrafficForML_CICFlowMeter.csv >> /content/drive/MyDrive/NYIT/880/data/preprocessed/cleaned.parquet/part-005.parquet\n",
            "-------------------------\n",
            "[06/04/25 17:35:47] Loading csv file [6]: Thursday-22-02-2018_TrafficForML_CICFlowMeter.csv\n",
            "  包含[80]列特征: ['ACK Flag Cnt', 'Active Max', 'Active Mean', 'Active Min', 'Active Std', 'Bwd Blk Rate Avg', 'Bwd Byts/b Avg', 'Bwd Header Len', 'Bwd IAT Max', 'Bwd IAT Mean', 'Bwd IAT Min', 'Bwd IAT Std', 'Bwd IAT Tot', 'Bwd PSH Flags', 'Bwd Pkt Len Max', 'Bwd Pkt Len Mean', 'Bwd Pkt Len Min', 'Bwd Pkt Len Std', 'Bwd Pkts/b Avg', 'Bwd Pkts/s', 'Bwd Seg Size Avg', 'Bwd URG Flags', 'CWE Flag Count', 'Down/Up Ratio', 'Dst Port', 'ECE Flag Cnt', 'FIN Flag Cnt', 'Flow Byts/s', 'Flow Duration', 'Flow IAT Max', 'Flow IAT Mean', 'Flow IAT Min', 'Flow IAT Std', 'Flow Pkts/s', 'Fwd Act Data Pkts', 'Fwd Blk Rate Avg', 'Fwd Byts/b Avg', 'Fwd Header Len', 'Fwd IAT Max', 'Fwd IAT Mean', 'Fwd IAT Min', 'Fwd IAT Std', 'Fwd IAT Tot', 'Fwd PSH Flags', 'Fwd Pkt Len Max', 'Fwd Pkt Len Mean', 'Fwd Pkt Len Min', 'Fwd Pkt Len Std', 'Fwd Pkts/b Avg', 'Fwd Pkts/s', 'Fwd Seg Size Avg', 'Fwd Seg Size Min', 'Fwd URG Flags', 'Idle Max', 'Idle Mean', 'Idle Min', 'Idle Std', 'Init Bwd Win Byts', 'Init Fwd Win Byts', 'Label', 'PSH Flag Cnt', 'Pkt Len Max', 'Pkt Len Mean', 'Pkt Len Min', 'Pkt Len Std', 'Pkt Len Var', 'Pkt Size Avg', 'Protocol', 'RST Flag Cnt', 'SYN Flag Cnt', 'Subflow Bwd Byts', 'Subflow Bwd Pkts', 'Subflow Fwd Byts', 'Subflow Fwd Pkts', 'Timestamp', 'Tot Bwd Pkts', 'Tot Fwd Pkts', 'TotLen Bwd Pkts', 'TotLen Fwd Pkts', 'URG Flag Cnt']\n",
            "  Label 列的值: {'Benign': 1048213, 'Brute Force -Web': 249, 'Brute Force -XSS': 79, 'SQL Injection': 34}\n",
            "  ❎ 删除部分无用的特征列: ['Timestamp']\n",
            "    删除后剩余[79]列特征\n",
            "  🔁 数值特征类型转换 ⇨ float32\n",
            "  ⚠️ 处理 Inf 值. 当前 shape=(1048575, 79)\n",
            "    正无穷 (+Inf) 数量: 7651, 负无穷 (-Inf) 数量: 0\n",
            "    处理后 shape=(1042965, 79)\n",
            "  ⚠️ 处理 NaN 值. 包含 NaN 个数: 0\n",
            "    处理后 shape=(1042965, 79)\n",
            "  🔁 标签列数值化编码 Numericalization Encoding...\n",
            "    转换前 Label 列的值: {'Benign': 1042603, 'Brute Force -Web': 249, 'Brute Force -XSS': 79, 'SQL Injection': 34}\n",
            "    转换后 Label 列的值: {0: 1042603, 2: 249, 3: 79, 13: 34}\n",
            "[06/04/25 17:36:25] 💾 保存文件 [6]: Thursday-22-02-2018_TrafficForML_CICFlowMeter.csv >> /content/drive/MyDrive/NYIT/880/data/preprocessed/cleaned.parquet/part-006.parquet\n",
            "-------------------------\n",
            "[06/04/25 17:36:25] Loading csv file [7]: Wednesday-14-02-2018_TrafficForML_CICFlowMeter.csv\n",
            "  包含[80]列特征: ['ACK Flag Cnt', 'Active Max', 'Active Mean', 'Active Min', 'Active Std', 'Bwd Blk Rate Avg', 'Bwd Byts/b Avg', 'Bwd Header Len', 'Bwd IAT Max', 'Bwd IAT Mean', 'Bwd IAT Min', 'Bwd IAT Std', 'Bwd IAT Tot', 'Bwd PSH Flags', 'Bwd Pkt Len Max', 'Bwd Pkt Len Mean', 'Bwd Pkt Len Min', 'Bwd Pkt Len Std', 'Bwd Pkts/b Avg', 'Bwd Pkts/s', 'Bwd Seg Size Avg', 'Bwd URG Flags', 'CWE Flag Count', 'Down/Up Ratio', 'Dst Port', 'ECE Flag Cnt', 'FIN Flag Cnt', 'Flow Byts/s', 'Flow Duration', 'Flow IAT Max', 'Flow IAT Mean', 'Flow IAT Min', 'Flow IAT Std', 'Flow Pkts/s', 'Fwd Act Data Pkts', 'Fwd Blk Rate Avg', 'Fwd Byts/b Avg', 'Fwd Header Len', 'Fwd IAT Max', 'Fwd IAT Mean', 'Fwd IAT Min', 'Fwd IAT Std', 'Fwd IAT Tot', 'Fwd PSH Flags', 'Fwd Pkt Len Max', 'Fwd Pkt Len Mean', 'Fwd Pkt Len Min', 'Fwd Pkt Len Std', 'Fwd Pkts/b Avg', 'Fwd Pkts/s', 'Fwd Seg Size Avg', 'Fwd Seg Size Min', 'Fwd URG Flags', 'Idle Max', 'Idle Mean', 'Idle Min', 'Idle Std', 'Init Bwd Win Byts', 'Init Fwd Win Byts', 'Label', 'PSH Flag Cnt', 'Pkt Len Max', 'Pkt Len Mean', 'Pkt Len Min', 'Pkt Len Std', 'Pkt Len Var', 'Pkt Size Avg', 'Protocol', 'RST Flag Cnt', 'SYN Flag Cnt', 'Subflow Bwd Byts', 'Subflow Bwd Pkts', 'Subflow Fwd Byts', 'Subflow Fwd Pkts', 'Timestamp', 'Tot Bwd Pkts', 'Tot Fwd Pkts', 'TotLen Bwd Pkts', 'TotLen Fwd Pkts', 'URG Flag Cnt']\n",
            "  Label 列的值: {'Benign': 667626, 'FTP-BruteForce': 193360, 'SSH-Bruteforce': 187589}\n",
            "  ❎ 删除部分无用的特征列: ['Timestamp']\n",
            "    删除后剩余[79]列特征\n",
            "  🔁 数值特征类型转换 ⇨ float32\n",
            "  ⚠️ 处理 Inf 值. 当前 shape=(1048575, 79)\n",
            "    正无穷 (+Inf) 数量: 5371, 负无穷 (-Inf) 数量: 0\n",
            "    处理后 shape=(1044751, 79)\n",
            "  ⚠️ 处理 NaN 值. 包含 NaN 个数: 0\n",
            "    处理后 shape=(1044751, 79)\n",
            "  🔁 标签列数值化编码 Numericalization Encoding...\n",
            "    转换前 Label 列的值: {'Benign': 663808, 'FTP-BruteForce': 193354, 'SSH-Bruteforce': 187589}\n",
            "    转换后 Label 列的值: {0: 663808, 11: 193354, 14: 187589}\n",
            "[06/04/25 17:37:07] 💾 保存文件 [7]: Wednesday-14-02-2018_TrafficForML_CICFlowMeter.csv >> /content/drive/MyDrive/NYIT/880/data/preprocessed/cleaned.parquet/part-007.parquet\n",
            "-------------------------\n",
            "[06/04/25 17:37:07] Loading csv file [8]: Wednesday-21-02-2018_TrafficForML_CICFlowMeter.csv\n",
            "  包含[80]列特征: ['ACK Flag Cnt', 'Active Max', 'Active Mean', 'Active Min', 'Active Std', 'Bwd Blk Rate Avg', 'Bwd Byts/b Avg', 'Bwd Header Len', 'Bwd IAT Max', 'Bwd IAT Mean', 'Bwd IAT Min', 'Bwd IAT Std', 'Bwd IAT Tot', 'Bwd PSH Flags', 'Bwd Pkt Len Max', 'Bwd Pkt Len Mean', 'Bwd Pkt Len Min', 'Bwd Pkt Len Std', 'Bwd Pkts/b Avg', 'Bwd Pkts/s', 'Bwd Seg Size Avg', 'Bwd URG Flags', 'CWE Flag Count', 'Down/Up Ratio', 'Dst Port', 'ECE Flag Cnt', 'FIN Flag Cnt', 'Flow Byts/s', 'Flow Duration', 'Flow IAT Max', 'Flow IAT Mean', 'Flow IAT Min', 'Flow IAT Std', 'Flow Pkts/s', 'Fwd Act Data Pkts', 'Fwd Blk Rate Avg', 'Fwd Byts/b Avg', 'Fwd Header Len', 'Fwd IAT Max', 'Fwd IAT Mean', 'Fwd IAT Min', 'Fwd IAT Std', 'Fwd IAT Tot', 'Fwd PSH Flags', 'Fwd Pkt Len Max', 'Fwd Pkt Len Mean', 'Fwd Pkt Len Min', 'Fwd Pkt Len Std', 'Fwd Pkts/b Avg', 'Fwd Pkts/s', 'Fwd Seg Size Avg', 'Fwd Seg Size Min', 'Fwd URG Flags', 'Idle Max', 'Idle Mean', 'Idle Min', 'Idle Std', 'Init Bwd Win Byts', 'Init Fwd Win Byts', 'Label', 'PSH Flag Cnt', 'Pkt Len Max', 'Pkt Len Mean', 'Pkt Len Min', 'Pkt Len Std', 'Pkt Len Var', 'Pkt Size Avg', 'Protocol', 'RST Flag Cnt', 'SYN Flag Cnt', 'Subflow Bwd Byts', 'Subflow Bwd Pkts', 'Subflow Fwd Byts', 'Subflow Fwd Pkts', 'Timestamp', 'Tot Bwd Pkts', 'Tot Fwd Pkts', 'TotLen Bwd Pkts', 'TotLen Fwd Pkts', 'URG Flag Cnt']\n",
            "  Label 列的值: {'DDOS attack-HOIC': 686012, 'Benign': 360833, 'DDOS attack-LOIC-UDP': 1730}\n",
            "  ❎ 删除部分无用的特征列: ['Timestamp']\n",
            "    删除后剩余[79]列特征\n",
            "  🔁 数值特征类型转换 ⇨ float32\n",
            "  ⚠️ 处理 Inf 值. 当前 shape=(1048575, 79)\n",
            "    正无穷 (+Inf) 数量: 0, 负无穷 (-Inf) 数量: 0\n",
            "    处理后 shape=(1048575, 79)\n",
            "  ⚠️ 处理 NaN 值. 包含 NaN 个数: 0\n",
            "    处理后 shape=(1048575, 79)\n",
            "  🔁 标签列数值化编码 Numericalization Encoding...\n",
            "    转换前 Label 列的值: {'DDOS attack-HOIC': 686012, 'Benign': 360833, 'DDOS attack-LOIC-UDP': 1730}\n",
            "    转换后 Label 列的值: {4: 686012, 0: 360833, 5: 1730}\n",
            "[06/04/25 17:37:43] 💾 保存文件 [8]: Wednesday-21-02-2018_TrafficForML_CICFlowMeter.csv >> /content/drive/MyDrive/NYIT/880/data/preprocessed/cleaned.parquet/part-008.parquet\n",
            "-------------------------\n",
            "[06/04/25 17:37:43] Loading csv file [9]: Wednesday-28-02-2018_TrafficForML_CICFlowMeter.csv\n",
            "  包含[80]列特征: ['ACK Flag Cnt', 'Active Max', 'Active Mean', 'Active Min', 'Active Std', 'Bwd Blk Rate Avg', 'Bwd Byts/b Avg', 'Bwd Header Len', 'Bwd IAT Max', 'Bwd IAT Mean', 'Bwd IAT Min', 'Bwd IAT Std', 'Bwd IAT Tot', 'Bwd PSH Flags', 'Bwd Pkt Len Max', 'Bwd Pkt Len Mean', 'Bwd Pkt Len Min', 'Bwd Pkt Len Std', 'Bwd Pkts/b Avg', 'Bwd Pkts/s', 'Bwd Seg Size Avg', 'Bwd URG Flags', 'CWE Flag Count', 'Down/Up Ratio', 'Dst Port', 'ECE Flag Cnt', 'FIN Flag Cnt', 'Flow Byts/s', 'Flow Duration', 'Flow IAT Max', 'Flow IAT Mean', 'Flow IAT Min', 'Flow IAT Std', 'Flow Pkts/s', 'Fwd Act Data Pkts', 'Fwd Blk Rate Avg', 'Fwd Byts/b Avg', 'Fwd Header Len', 'Fwd IAT Max', 'Fwd IAT Mean', 'Fwd IAT Min', 'Fwd IAT Std', 'Fwd IAT Tot', 'Fwd PSH Flags', 'Fwd Pkt Len Max', 'Fwd Pkt Len Mean', 'Fwd Pkt Len Min', 'Fwd Pkt Len Std', 'Fwd Pkts/b Avg', 'Fwd Pkts/s', 'Fwd Seg Size Avg', 'Fwd Seg Size Min', 'Fwd URG Flags', 'Idle Max', 'Idle Mean', 'Idle Min', 'Idle Std', 'Init Bwd Win Byts', 'Init Fwd Win Byts', 'Label', 'PSH Flag Cnt', 'Pkt Len Max', 'Pkt Len Mean', 'Pkt Len Min', 'Pkt Len Std', 'Pkt Len Var', 'Pkt Size Avg', 'Protocol', 'RST Flag Cnt', 'SYN Flag Cnt', 'Subflow Bwd Byts', 'Subflow Bwd Pkts', 'Subflow Fwd Byts', 'Subflow Fwd Pkts', 'Timestamp', 'Tot Bwd Pkts', 'Tot Fwd Pkts', 'TotLen Bwd Pkts', 'TotLen Fwd Pkts', 'URG Flag Cnt']\n",
            "  Label 列的值: {'Benign': 544200, 'Infilteration': 68871, 'Label': 33}\n",
            "  ❎ 删除部分无用的特征列: ['Timestamp']\n",
            "    删除后剩余[79]列特征\n",
            "  ❎ 删除其中 Label 列的值等于 \"Label\" 的行\n",
            "    删除后 Label 列的值: {'Benign': 544200, 'Infilteration': 68871}\n",
            "  🔁 数值特征类型转换 ⇨ float32\n",
            "  ⚠️ 处理 Inf 值. 当前 shape=(613071, 79)\n",
            "    正无穷 (+Inf) 数量: 8297, 负无穷 (-Inf) 数量: 0\n",
            "    处理后 shape=(606902, 79)\n",
            "  ⚠️ 处理 NaN 值. 包含 NaN 个数: 0\n",
            "    处理后 shape=(606902, 79)\n",
            "  🔁 标签列数值化编码 Numericalization Encoding...\n",
            "    转换前 Label 列的值: {'Benign': 538666, 'Infilteration': 68236}\n",
            "    转换后 Label 列的值: {0: 538666, 12: 68236}\n",
            "[06/04/25 17:38:42] 💾 保存文件 [9]: Wednesday-28-02-2018_TrafficForML_CICFlowMeter.csv >> /content/drive/MyDrive/NYIT/880/data/preprocessed/cleaned.parquet/part-009.parquet\n",
            "-------------------------\n",
            "[06/04/25 17:38:42] Loading csv file [10]: Thuesday-20-02-2018_TrafficForML_CICFlowMeter.csv\n",
            "  包含[84]列特征: ['ACK Flag Cnt', 'Active Max', 'Active Mean', 'Active Min', 'Active Std', 'Bwd Blk Rate Avg', 'Bwd Byts/b Avg', 'Bwd Header Len', 'Bwd IAT Max', 'Bwd IAT Mean', 'Bwd IAT Min', 'Bwd IAT Std', 'Bwd IAT Tot', 'Bwd PSH Flags', 'Bwd Pkt Len Max', 'Bwd Pkt Len Mean', 'Bwd Pkt Len Min', 'Bwd Pkt Len Std', 'Bwd Pkts/b Avg', 'Bwd Pkts/s', 'Bwd Seg Size Avg', 'Bwd URG Flags', 'CWE Flag Count', 'Down/Up Ratio', 'Dst IP', 'Dst Port', 'ECE Flag Cnt', 'FIN Flag Cnt', 'Flow Byts/s', 'Flow Duration', 'Flow IAT Max', 'Flow IAT Mean', 'Flow IAT Min', 'Flow IAT Std', 'Flow ID', 'Flow Pkts/s', 'Fwd Act Data Pkts', 'Fwd Blk Rate Avg', 'Fwd Byts/b Avg', 'Fwd Header Len', 'Fwd IAT Max', 'Fwd IAT Mean', 'Fwd IAT Min', 'Fwd IAT Std', 'Fwd IAT Tot', 'Fwd PSH Flags', 'Fwd Pkt Len Max', 'Fwd Pkt Len Mean', 'Fwd Pkt Len Min', 'Fwd Pkt Len Std', 'Fwd Pkts/b Avg', 'Fwd Pkts/s', 'Fwd Seg Size Avg', 'Fwd Seg Size Min', 'Fwd URG Flags', 'Idle Max', 'Idle Mean', 'Idle Min', 'Idle Std', 'Init Bwd Win Byts', 'Init Fwd Win Byts', 'Label', 'PSH Flag Cnt', 'Pkt Len Max', 'Pkt Len Mean', 'Pkt Len Min', 'Pkt Len Std', 'Pkt Len Var', 'Pkt Size Avg', 'Protocol', 'RST Flag Cnt', 'SYN Flag Cnt', 'Src IP', 'Src Port', 'Subflow Bwd Byts', 'Subflow Bwd Pkts', 'Subflow Fwd Byts', 'Subflow Fwd Pkts', 'Timestamp', 'Tot Bwd Pkts', 'Tot Fwd Pkts', 'TotLen Bwd Pkts', 'TotLen Fwd Pkts', 'URG Flag Cnt']\n",
            "  Label 列的值: {'DDoS attacks-LOIC-HTTP': 576191, 'Benign': 499999}\n",
            "  ❎ 删除部分无用的特征列: ['Flow ID', 'Src IP', 'Dst IP', 'Src Port', 'Timestamp']\n",
            "    删除后剩余[79]列特征\n",
            "  🔁 数值特征类型转换 ⇨ float32\n",
            "  ⚠️ 处理 Inf 值. 当前 shape=(1076190, 79)\n",
            "    正无穷 (+Inf) 数量: 5617, 负无穷 (-Inf) 数量: 0\n",
            "    处理后 shape=(1072147, 79)\n",
            "  ⚠️ 处理 NaN 值. 包含 NaN 个数: 0\n",
            "    处理后 shape=(1072147, 79)\n",
            "  🔁 标签列数值化编码 Numericalization Encoding...\n",
            "    转换前 Label 列的值: {'DDoS attacks-LOIC-HTTP': 576191, 'Benign': 495956}\n",
            "    转换后 Label 列的值: {6: 576191, 0: 495956}\n",
            "[06/04/25 17:39:32] 💾 保存文件 [10]: Thuesday-20-02-2018_TrafficForML_CICFlowMeter.csv >> /content/drive/MyDrive/NYIT/880/data/preprocessed/cleaned.parquet/part-010.parquet\n",
            "-------------------------\n"
          ]
        }
      ]
    },
    {
      "cell_type": "markdown",
      "source": [
        "## Data Trimming\n",
        "- 删除全零值的特征列\n",
        "- 删除存在 小于 -1 的值的行\n",
        "- 删除过多的标签样本 (尤其是 `Benign` 样本, 只保留 2000000 行)"
      ],
      "metadata": {
        "id": "HtFtyuulcWdZ"
      }
    },
    {
      "cell_type": "code",
      "source": [
        "trimed_file = preprocessed_folder / 'trimed_data.parquet'\n",
        "re_trim = False\n",
        "\n",
        "# trim_to 字典指定要裁剪的 目标标签 与 目标数量 ⇨ df[label] <= trim_to[label]\n",
        "trim_to = {0:2000000, 1:300000, 3:300000} # 因为标签 1,3 本来就没有30万条数据, 所以这里并不会对标签 1,3 进行裁剪\n",
        "\n",
        "if not trimed_file.exists() or re_trim:\n",
        "    ## 一次性读取全部数据 ##\n",
        "    print(f\"[{datetime.now().strftime('%x %X')}] 🚀 Loading cleaned data from {cleaned_folder}\")\n",
        "\n",
        "    df = pd.read_parquet(cleaned_folder)\n",
        "    print(f\"[{datetime.now().strftime('%x %X')}] shape={df.shape}\")\n",
        "    print(f\"[{datetime.now().strftime('%x %X')}] Label 列的值: {dict(sorted(df['Label'].value_counts().items()))}\")\n",
        "\n",
        "\n",
        "    ## 判断 df 中是否有全零的列，有的话删除 ##\n",
        "    zero_columns = df.columns[(df==0).all()]\n",
        "    print(f\"[{datetime.now().strftime('%x %X')}] 🧹 检测到全零值的列共 {len(zero_columns)} 个: {[df.columns.get_loc(col) for col in zero_columns]}\")\n",
        "\n",
        "    df = df.drop(zero_columns, axis=1)\n",
        "    print(f\"[{datetime.now().strftime('%x %X')}] 🧹 删除后 shape={df.shape}\")\n",
        "\n",
        "    ## 处理小于 -1 的值 ##\n",
        "    rows_with_negatives = df[df.lt(-1).any(axis=1)]\n",
        "    print(f\"[{datetime.now().strftime('%x %X')}] ⚠️ 处理小于 -1 的值. 共找到 {len(rows_with_negatives)} 行包含小于 -1 的值\")\n",
        "    df.drop(index=rows_with_negatives.index, inplace=True)\n",
        "    print(f\"[{datetime.now().strftime('%x %X')}] ⚠️ 处理后 shape={df.shape}\")\n",
        "    print(f\"[{datetime.now().strftime('%x %X')}] ⚠️ Label 列的值: {dict(sorted(df['Label'].value_counts().items()))}\")\n",
        "\n",
        "    ## 开始裁剪 ##\n",
        "    # 计算每行是否应该保留\n",
        "    df['__keep__'] = False\n",
        "    for label, max_count in trim_to.items():\n",
        "        mask = (df['Label'] == label)\n",
        "        if len(df[mask]) <= max_count:\n",
        "            keep_indices = df[mask].index\n",
        "        else:\n",
        "            keep_indices = df[mask].sample(n=max_count, random_state=42).index\n",
        "        df.loc[keep_indices, '__keep__'] = True\n",
        "\n",
        "    # 未出现在 trim_to 中的类别，默认保留全部\n",
        "    df.loc[~df['Label'].isin(trim_to.keys()), '__keep__'] = True\n",
        "\n",
        "    # 过滤并丢弃标记列\n",
        "    df = df[df['__keep__']].drop(columns='__keep__').reset_index(drop=True)\n",
        "\n",
        "    print(f\"[{datetime.now().strftime('%x %X')}] ✂️ 裁剪后 shape={df.shape}\")\n",
        "    print(f\"[{datetime.now().strftime('%x %X')}] ✂️ Label 列的值: {dict(sorted(df['Label'].value_counts().items()))}\")\n",
        "\n",
        "\n",
        "    ## 保存裁剪后的数据 ##\n",
        "    df.to_parquet(trimed_file, index=False)\n",
        "    print(f\"[{datetime.now().strftime('%x %X')}] 💾 保存裁剪后的数据: {trimed_file}\")\n",
        "    pass\n",
        "else:\n",
        "    print(f\"[{datetime.now().strftime('%x %X')}] ⏭️ {trimed_file} 已存在, 直接加载\")\n",
        "    df = pd.read_parquet(trimed_file)\n",
        "    print(f\"[{datetime.now().strftime('%x %X')}] shape={df.shape}\")\n",
        "    print(f\"[{datetime.now().strftime('%x %X')}] Label 列的值: {dict(sorted(df['Label'].value_counts().items()))}\")"
      ],
      "metadata": {
        "colab": {
          "base_uri": "https://localhost:8080/"
        },
        "id": "tkeF9WkjzPdW",
        "outputId": "36263e14-1771-47a6-8818-36878280c9ad"
      },
      "execution_count": null,
      "outputs": [
        {
          "output_type": "stream",
          "name": "stdout",
          "text": [
            "[06/04/25 17:39:32] 🚀 Loading cleaned data from /content/drive/MyDrive/NYIT/880/data/preprocessed/cleaned.parquet\n",
            "[06/04/25 17:39:44] shape=(9320035, 79)\n",
            "[06/04/25 17:39:44] Label 列的值: {0: 6573101, 1: 286191, 2: 611, 3: 230, 4: 686012, 5: 1730, 6: 576191, 7: 41508, 8: 461912, 9: 139890, 10: 10990, 11: 193354, 12: 160639, 13: 87, 14: 187589}\n",
            "[06/04/25 17:39:47] 🧹 检测到全零值的列共 8 个: [32, 34, 56, 57, 58, 59, 60, 61]\n",
            "[06/04/25 17:39:50] 🧹 删除后 shape=(9320035, 71)\n",
            "[06/04/25 17:39:53] ⚠️ 处理小于 -1 的值. 共找到 15 行包含小于 -1 的值\n",
            "[06/04/25 17:39:56] ⚠️ 处理后 shape=(9320020, 71)\n",
            "[06/04/25 17:39:56] ⚠️ Label 列的值: {0: 6573086, 1: 286191, 2: 611, 3: 230, 4: 686012, 5: 1730, 6: 576191, 7: 41508, 8: 461912, 9: 139890, 10: 10990, 11: 193354, 12: 160639, 13: 87, 14: 187589}\n",
            "[06/04/25 17:40:08] ✂️ 裁剪后 shape=(4746934, 71)\n",
            "[06/04/25 17:40:08] ✂️ Label 列的值: {0: 2000000, 1: 286191, 2: 611, 3: 230, 4: 686012, 5: 1730, 6: 576191, 7: 41508, 8: 461912, 9: 139890, 10: 10990, 11: 193354, 12: 160639, 13: 87, 14: 187589}\n",
            "[06/04/25 17:40:29] 💾 保存裁剪后的数据: /content/drive/MyDrive/NYIT/880/data/preprocessed/trimed_data.parquet\n"
          ]
        }
      ]
    },
    {
      "cell_type": "markdown",
      "source": [
        "## 数据统计\n",
        "- shape\n",
        "- 每种标签的样本数\n",
        "- 特征列的数值分布\n",
        "- 负值统计"
      ],
      "metadata": {
        "id": "lTjOPpDNj8OS"
      }
    },
    {
      "cell_type": "code",
      "source": [
        "report = f\"[{datetime.now().strftime('%x %X')}] === Data Summary ===\"\n",
        "\n",
        "report_file = preprocessed_folder / 'trimed_report.txt'\n",
        "\n",
        "pd.set_option('display.max_rows', None)     # 显示所有行（每一列对应一行）\n",
        "pd.set_option('display.max_columns', None)  # 显示所有列（每一个统计指标）\n",
        "\n",
        "report += \"\\n\" + f\"[{datetime.now().strftime('%x %X')}] 数据集形状: {df.shape}\"\n",
        "report += \"\\n\" + f\"[{datetime.now().strftime('%x %X')}] 各标签样本统计:\\n{dict(sorted(df['Label'].value_counts().items()))}\"\n",
        "report += \"\\n\" + f\"[{datetime.now().strftime('%x %X')}] 数据分布统计: \\n{df.describe()}\"\n",
        "\n",
        "negative_counts = (df < 0).sum()\n",
        "negative_counts_filtered = {\n",
        "    k: int(v) for k, v in negative_counts.items() if v > 0\n",
        "}\n",
        "report += \"\\n\"*2 + f\"[{datetime.now().strftime('%x %X')}] 负值统计, 共 [{len(negative_counts_filtered)}] 列存在负值:\"\n",
        "report += \"\\n\" + f\"{negative_counts_filtered}\"\n",
        "\n",
        "print(f\"[{datetime.now().strftime('%x %X')}] 统计数据输出到文件: {report_file}\")\n",
        "with open(report_file, 'w') as f:\n",
        "    f.write(report)"
      ],
      "metadata": {
        "colab": {
          "base_uri": "https://localhost:8080/"
        },
        "id": "10vVr_6ckAgR",
        "outputId": "ac3aa9af-0a88-4e56-9e94-b1c8e1f6825c"
      },
      "execution_count": null,
      "outputs": [
        {
          "output_type": "stream",
          "name": "stdout",
          "text": [
            "[06/04/25 17:40:48] 统计数据输出到文件: /content/drive/MyDrive/NYIT/880/data/preprocessed/trimed_report.txt\n"
          ]
        }
      ]
    },
    {
      "cell_type": "markdown",
      "source": [
        "## Dataset split\n",
        "- train set: 80%\n",
        "- valid set: 10%\n",
        "- test set: 10%"
      ],
      "metadata": {
        "id": "N5X7-pOK4pV5"
      }
    },
    {
      "cell_type": "code",
      "source": [
        "from sklearn.model_selection import train_test_split\n",
        "\n",
        "if splits_folder.exists():\n",
        "    print(f\"[{datetime.now().strftime('%x %X')}] ⚠️ {splits_folder} 目录已存在, 将覆盖里面的数据\")\n",
        "else:\n",
        "    print(f\"[{datetime.now().strftime('%x %X')}] 📁 创建目录: {splits_folder}\")\n",
        "    splits_folder.mkdir(parents=True, exist_ok=True)\n",
        "\n",
        "# 分离 特征矩阵 与 标签\n",
        "features = df.columns.difference(['Label'])\n",
        "X = df[features].to_numpy(dtype=np.float32)\n",
        "y = df['Label'].to_numpy(dtype=np.int32)\n",
        "\n",
        "print(f'Original features: {X.shape}')\n",
        "print(f'Original labels: {get_label_counts(y)}\\n')\n",
        "\n",
        "# Split whole => 0.8 : 0.2\n",
        "X_train, X_test, y_train, y_test = train_test_split(X, y, test_size=0.2, random_state=42, stratify=y)\n",
        "del X, y\n",
        "\n",
        "# Split 0.2 => 0.1 : 0.1\n",
        "X_valid, X_test, y_valid, y_test = train_test_split(X_test, y_test, test_size=0.5, random_state=42, stratify=y_test)\n",
        "\n",
        "print(f'X_train shape: {X_train.shape}')\n",
        "print(f'y_train labels: {get_label_counts(y_train)}\\n')\n",
        "np.save(splits_folder / f'train_X.npy', X_train)\n",
        "np.save(splits_folder / f'train_y.npy', y_train)\n",
        "\n",
        "print(f'X_valid shape: {X_valid.shape}')\n",
        "print(f'y_valid labels: {get_label_counts(y_valid)}\\n')\n",
        "np.save(splits_folder / f'valid_X.npy', X_valid)\n",
        "np.save(splits_folder / f'valid_y.npy', y_valid)\n",
        "\n",
        "print(f'X_test shape: {X_test.shape}')\n",
        "print(f'y_test labels: {get_label_counts(y_test)}\\n')\n",
        "np.save(splits_folder / f'test_X.npy', X_test)\n",
        "np.save(splits_folder / f'test_y.npy', y_test)\n",
        "\n",
        "print(f'[{datetime.now().strftime(\"%x %X\")}] ✅ Saved splited datasets to {splits_folder}/ (train, valid, test)')"
      ],
      "metadata": {
        "colab": {
          "base_uri": "https://localhost:8080/"
        },
        "id": "G2gnTJP5448I",
        "outputId": "186fca0c-8c3e-4575-9717-0be64d80ccc4"
      },
      "execution_count": null,
      "outputs": [
        {
          "output_type": "stream",
          "name": "stdout",
          "text": [
            "[06/04/25 18:00:36] ⚠️ /content/drive/MyDrive/NYIT/880/data/preprocessed/splits 目录已存在, 将覆盖里面的数据\n",
            "Original features: (4746934, 70)\n",
            "Original labels: {0: 2000000, 1: 286191, 2: 611, 3: 230, 4: 686012, 5: 1730, 6: 576191, 7: 41508, 8: 461912, 9: 139890, 10: 10990, 11: 193354, 12: 160639, 13: 87, 14: 187589}\n",
            "\n",
            "X_train shape: (3797547, 70)\n",
            "y_train labels: {0: 1600000, 1: 228953, 2: 489, 3: 184, 4: 548809, 5: 1384, 6: 460953, 7: 33206, 8: 369530, 9: 111912, 10: 8792, 11: 154683, 12: 128511, 13: 70, 14: 150071}\n",
            "\n",
            "X_valid shape: (474693, 70)\n",
            "y_valid labels: {0: 200000, 1: 28619, 2: 61, 3: 23, 4: 68601, 5: 173, 6: 57619, 7: 4151, 8: 46191, 9: 13989, 10: 1099, 11: 19335, 12: 16064, 13: 9, 14: 18759}\n",
            "\n",
            "X_test shape: (474694, 70)\n",
            "y_test labels: {0: 200000, 1: 28619, 2: 61, 3: 23, 4: 68602, 5: 173, 6: 57619, 7: 4151, 8: 46191, 9: 13989, 10: 1099, 11: 19336, 12: 16064, 13: 8, 14: 18759}\n",
            "\n",
            "[06/04/25 18:01:29] ✅ Saved splited datasets to /content/drive/MyDrive/NYIT/880/data/preprocessed/splits/ (train, valid, test)\n"
          ]
        }
      ]
    }
  ]
}