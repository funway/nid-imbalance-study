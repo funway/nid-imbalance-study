{
  "nbformat": 4,
  "nbformat_minor": 0,
  "metadata": {
    "colab": {
      "provenance": [],
      "include_colab_link": true
    },
    "kernelspec": {
      "name": "python3",
      "display_name": "Python 3"
    },
    "language_info": {
      "name": "python"
    },
    "widgets": {
      "application/vnd.jupyter.widget-state+json": {
        "dbd8f18f58a349178cf13a712d6a2c86": {
          "model_module": "@jupyter-widgets/controls",
          "model_name": "HBoxModel",
          "model_module_version": "1.5.0",
          "state": {
            "_dom_classes": [],
            "_model_module": "@jupyter-widgets/controls",
            "_model_module_version": "1.5.0",
            "_model_name": "HBoxModel",
            "_view_count": null,
            "_view_module": "@jupyter-widgets/controls",
            "_view_module_version": "1.5.0",
            "_view_name": "HBoxView",
            "box_style": "",
            "children": [
              "IPY_MODEL_9d69e5c28df945e3857003445325fa89",
              "IPY_MODEL_71edd1b966c64c78afd7d10361061942",
              "IPY_MODEL_c0a9040fafdc4c4d914a49b7734464ab"
            ],
            "layout": "IPY_MODEL_8b50a7498fe84cc88185cf449a3c3196"
          }
        },
        "9d69e5c28df945e3857003445325fa89": {
          "model_module": "@jupyter-widgets/controls",
          "model_name": "HTMLModel",
          "model_module_version": "1.5.0",
          "state": {
            "_dom_classes": [],
            "_model_module": "@jupyter-widgets/controls",
            "_model_module_version": "1.5.0",
            "_model_name": "HTMLModel",
            "_view_count": null,
            "_view_module": "@jupyter-widgets/controls",
            "_view_module_version": "1.5.0",
            "_view_name": "HTMLView",
            "description": "",
            "description_tooltip": null,
            "layout": "IPY_MODEL_2815aff83cea47eeb30cf8dcddbfeb15",
            "placeholder": "​",
            "style": "IPY_MODEL_f8ea7fdabd294b54a9dd1e94b3e6710a",
            "value": "Computing MI: 100%"
          }
        },
        "71edd1b966c64c78afd7d10361061942": {
          "model_module": "@jupyter-widgets/controls",
          "model_name": "FloatProgressModel",
          "model_module_version": "1.5.0",
          "state": {
            "_dom_classes": [],
            "_model_module": "@jupyter-widgets/controls",
            "_model_module_version": "1.5.0",
            "_model_name": "FloatProgressModel",
            "_view_count": null,
            "_view_module": "@jupyter-widgets/controls",
            "_view_module_version": "1.5.0",
            "_view_name": "ProgressView",
            "bar_style": "success",
            "description": "",
            "description_tooltip": null,
            "layout": "IPY_MODEL_0a9fba540d6a4d399cec926ff83eee61",
            "max": 10,
            "min": 0,
            "orientation": "horizontal",
            "style": "IPY_MODEL_1a18b8498851415aa77f434d450e68fa",
            "value": 10
          }
        },
        "c0a9040fafdc4c4d914a49b7734464ab": {
          "model_module": "@jupyter-widgets/controls",
          "model_name": "HTMLModel",
          "model_module_version": "1.5.0",
          "state": {
            "_dom_classes": [],
            "_model_module": "@jupyter-widgets/controls",
            "_model_module_version": "1.5.0",
            "_model_name": "HTMLModel",
            "_view_count": null,
            "_view_module": "@jupyter-widgets/controls",
            "_view_module_version": "1.5.0",
            "_view_name": "HTMLView",
            "description": "",
            "description_tooltip": null,
            "layout": "IPY_MODEL_4462be30eee14c4caeb8434107b5b759",
            "placeholder": "​",
            "style": "IPY_MODEL_311f681de0aa4310ae49be6b72c4a56a",
            "value": " 10/10 [1:03:25&lt;00:00, 307.41s/it]"
          }
        },
        "8b50a7498fe84cc88185cf449a3c3196": {
          "model_module": "@jupyter-widgets/base",
          "model_name": "LayoutModel",
          "model_module_version": "1.2.0",
          "state": {
            "_model_module": "@jupyter-widgets/base",
            "_model_module_version": "1.2.0",
            "_model_name": "LayoutModel",
            "_view_count": null,
            "_view_module": "@jupyter-widgets/base",
            "_view_module_version": "1.2.0",
            "_view_name": "LayoutView",
            "align_content": null,
            "align_items": null,
            "align_self": null,
            "border": null,
            "bottom": null,
            "display": null,
            "flex": null,
            "flex_flow": null,
            "grid_area": null,
            "grid_auto_columns": null,
            "grid_auto_flow": null,
            "grid_auto_rows": null,
            "grid_column": null,
            "grid_gap": null,
            "grid_row": null,
            "grid_template_areas": null,
            "grid_template_columns": null,
            "grid_template_rows": null,
            "height": null,
            "justify_content": null,
            "justify_items": null,
            "left": null,
            "margin": null,
            "max_height": null,
            "max_width": null,
            "min_height": null,
            "min_width": null,
            "object_fit": null,
            "object_position": null,
            "order": null,
            "overflow": null,
            "overflow_x": null,
            "overflow_y": null,
            "padding": null,
            "right": null,
            "top": null,
            "visibility": null,
            "width": null
          }
        },
        "2815aff83cea47eeb30cf8dcddbfeb15": {
          "model_module": "@jupyter-widgets/base",
          "model_name": "LayoutModel",
          "model_module_version": "1.2.0",
          "state": {
            "_model_module": "@jupyter-widgets/base",
            "_model_module_version": "1.2.0",
            "_model_name": "LayoutModel",
            "_view_count": null,
            "_view_module": "@jupyter-widgets/base",
            "_view_module_version": "1.2.0",
            "_view_name": "LayoutView",
            "align_content": null,
            "align_items": null,
            "align_self": null,
            "border": null,
            "bottom": null,
            "display": null,
            "flex": null,
            "flex_flow": null,
            "grid_area": null,
            "grid_auto_columns": null,
            "grid_auto_flow": null,
            "grid_auto_rows": null,
            "grid_column": null,
            "grid_gap": null,
            "grid_row": null,
            "grid_template_areas": null,
            "grid_template_columns": null,
            "grid_template_rows": null,
            "height": null,
            "justify_content": null,
            "justify_items": null,
            "left": null,
            "margin": null,
            "max_height": null,
            "max_width": null,
            "min_height": null,
            "min_width": null,
            "object_fit": null,
            "object_position": null,
            "order": null,
            "overflow": null,
            "overflow_x": null,
            "overflow_y": null,
            "padding": null,
            "right": null,
            "top": null,
            "visibility": null,
            "width": null
          }
        },
        "f8ea7fdabd294b54a9dd1e94b3e6710a": {
          "model_module": "@jupyter-widgets/controls",
          "model_name": "DescriptionStyleModel",
          "model_module_version": "1.5.0",
          "state": {
            "_model_module": "@jupyter-widgets/controls",
            "_model_module_version": "1.5.0",
            "_model_name": "DescriptionStyleModel",
            "_view_count": null,
            "_view_module": "@jupyter-widgets/base",
            "_view_module_version": "1.2.0",
            "_view_name": "StyleView",
            "description_width": ""
          }
        },
        "0a9fba540d6a4d399cec926ff83eee61": {
          "model_module": "@jupyter-widgets/base",
          "model_name": "LayoutModel",
          "model_module_version": "1.2.0",
          "state": {
            "_model_module": "@jupyter-widgets/base",
            "_model_module_version": "1.2.0",
            "_model_name": "LayoutModel",
            "_view_count": null,
            "_view_module": "@jupyter-widgets/base",
            "_view_module_version": "1.2.0",
            "_view_name": "LayoutView",
            "align_content": null,
            "align_items": null,
            "align_self": null,
            "border": null,
            "bottom": null,
            "display": null,
            "flex": null,
            "flex_flow": null,
            "grid_area": null,
            "grid_auto_columns": null,
            "grid_auto_flow": null,
            "grid_auto_rows": null,
            "grid_column": null,
            "grid_gap": null,
            "grid_row": null,
            "grid_template_areas": null,
            "grid_template_columns": null,
            "grid_template_rows": null,
            "height": null,
            "justify_content": null,
            "justify_items": null,
            "left": null,
            "margin": null,
            "max_height": null,
            "max_width": null,
            "min_height": null,
            "min_width": null,
            "object_fit": null,
            "object_position": null,
            "order": null,
            "overflow": null,
            "overflow_x": null,
            "overflow_y": null,
            "padding": null,
            "right": null,
            "top": null,
            "visibility": null,
            "width": null
          }
        },
        "1a18b8498851415aa77f434d450e68fa": {
          "model_module": "@jupyter-widgets/controls",
          "model_name": "ProgressStyleModel",
          "model_module_version": "1.5.0",
          "state": {
            "_model_module": "@jupyter-widgets/controls",
            "_model_module_version": "1.5.0",
            "_model_name": "ProgressStyleModel",
            "_view_count": null,
            "_view_module": "@jupyter-widgets/base",
            "_view_module_version": "1.2.0",
            "_view_name": "StyleView",
            "bar_color": null,
            "description_width": ""
          }
        },
        "4462be30eee14c4caeb8434107b5b759": {
          "model_module": "@jupyter-widgets/base",
          "model_name": "LayoutModel",
          "model_module_version": "1.2.0",
          "state": {
            "_model_module": "@jupyter-widgets/base",
            "_model_module_version": "1.2.0",
            "_model_name": "LayoutModel",
            "_view_count": null,
            "_view_module": "@jupyter-widgets/base",
            "_view_module_version": "1.2.0",
            "_view_name": "LayoutView",
            "align_content": null,
            "align_items": null,
            "align_self": null,
            "border": null,
            "bottom": null,
            "display": null,
            "flex": null,
            "flex_flow": null,
            "grid_area": null,
            "grid_auto_columns": null,
            "grid_auto_flow": null,
            "grid_auto_rows": null,
            "grid_column": null,
            "grid_gap": null,
            "grid_row": null,
            "grid_template_areas": null,
            "grid_template_columns": null,
            "grid_template_rows": null,
            "height": null,
            "justify_content": null,
            "justify_items": null,
            "left": null,
            "margin": null,
            "max_height": null,
            "max_width": null,
            "min_height": null,
            "min_width": null,
            "object_fit": null,
            "object_position": null,
            "order": null,
            "overflow": null,
            "overflow_x": null,
            "overflow_y": null,
            "padding": null,
            "right": null,
            "top": null,
            "visibility": null,
            "width": null
          }
        },
        "311f681de0aa4310ae49be6b72c4a56a": {
          "model_module": "@jupyter-widgets/controls",
          "model_name": "DescriptionStyleModel",
          "model_module_version": "1.5.0",
          "state": {
            "_model_module": "@jupyter-widgets/controls",
            "_model_module_version": "1.5.0",
            "_model_name": "DescriptionStyleModel",
            "_view_count": null,
            "_view_module": "@jupyter-widgets/base",
            "_view_module_version": "1.2.0",
            "_view_name": "StyleView",
            "description_width": ""
          }
        }
      }
    }
  },
  "cells": [
    {
      "cell_type": "markdown",
      "metadata": {
        "id": "view-in-github",
        "colab_type": "text"
      },
      "source": [
        "<a href=\"https://colab.research.google.com/github/funway/nid-imbalance-study/blob/main/preprocessing/features_selection.ipynb\" target=\"_parent\"><img src=\"https://colab.research.google.com/assets/colab-badge.svg\" alt=\"Open In Colab\"/></a>"
      ]
    },
    {
      "cell_type": "markdown",
      "source": [
        "# 特征选择(AKA 特征降维)\n",
        "* 从原始的 N 个特征列中，选择并保留 n 个“更重要的”特征。\n",
        "* 可以减少后续处理的计算复杂度，提高模型的性能。\n",
        "* ***选做***，可以用来跟不做降维的原始数据进行对比。\n",
        "* ❓但是三种方法选择出来的结果相差也太大了。。。"
      ],
      "metadata": {
        "id": "LAoU0x95ljKu"
      }
    },
    {
      "cell_type": "code",
      "source": [
        "from google.colab import drive\n",
        "\n",
        "drive.mount('/content/drive')"
      ],
      "metadata": {
        "id": "T6oprZ6Sah5w",
        "colab": {
          "base_uri": "https://localhost:8080/"
        },
        "outputId": "66d42f0e-0c8f-4109-892e-f57b67735f04"
      },
      "execution_count": null,
      "outputs": [
        {
          "output_type": "stream",
          "name": "stdout",
          "text": [
            "Mounted at /content/drive\n"
          ]
        }
      ]
    },
    {
      "cell_type": "code",
      "execution_count": null,
      "metadata": {
        "id": "Qi2yNmUKEvyu",
        "colab": {
          "base_uri": "https://localhost:8080/"
        },
        "outputId": "d40e3788-4460-4ea0-a48b-a7fb72884333"
      },
      "outputs": [
        {
          "output_type": "stream",
          "name": "stdout",
          "text": [
            "X shape: (4746934, 70)\n",
            "y shape: (4746934,)\n"
          ]
        }
      ],
      "source": [
        "### Modules ###\n",
        "from pathlib import Path\n",
        "import numpy as np\n",
        "\n",
        "\n",
        "### Globals ###\n",
        "\n",
        "## 数据文件\n",
        "dataset = 'CSE-CIC-IDS2018'\n",
        "dataset_folder = Path(f'/content/drive/MyDrive/NYIT/870/datasets/original/{dataset}/')\n",
        "preprocessed_folder = Path(f'/content/drive/MyDrive/NYIT/870/datasets/preprocessed/{dataset}/')\n",
        "\n",
        "features_file = preprocessed_folder / f'integrated/trimed_X_standard.npy'\n",
        "label_file = preprocessed_folder / f'integrated/trimed_label_standard.npy'\n",
        "\n",
        "# 加载数据\n",
        "X = np.load(features_file)\n",
        "y = np.load(label_file)\n",
        "print(f'X shape: {X.shape}')\n",
        "print(f'y shape: {y.shape}')\n",
        "\n",
        "# 定义保留的特征数\n",
        "n_features = 30"
      ]
    },
    {
      "cell_type": "markdown",
      "source": [
        "## 方法1: RandomForest (随机森林)\n",
        "\n",
        "* sklearn 不支持 GPU 加速, RF 模型训练地好慢。。。😫 80分钟。。。\n",
        "\n",
        "\n",
        "RF 选择的特征索引(共 30 个): [22 20 57  6  2 38  9 41 46  5 52 17  4 15 54 36  7 47 34 56  3 16 33 30\n",
        " 58 35 42 59 61  0]"
      ],
      "metadata": {
        "id": "lqQoXtqNcBH8"
      }
    },
    {
      "cell_type": "code",
      "source": [
        "from sklearn.ensemble import RandomForestClassifier\n",
        "\n",
        "method = 'rf'\n",
        "\n",
        "# n_estimators 参数定义决策树数量, random_state 是随机数种子\n",
        "rf = RandomForestClassifier(n_estimators=100, random_state=42)\n",
        "rf.fit(X, y)\n",
        "\n",
        "rf_feature_importance = rf.feature_importances_\n",
        "print(f'RF 计算的每个特征重要度: {rf_feature_importance}')\n",
        "\n",
        "# 选择 n_features 个重要特征 (np.argsort 是从小到大排序，大的在后面)\n",
        "rf_selected_features = np.argsort(rf_feature_importance)[-n_features:]\n",
        "print(f'RF 选择的特征索引(共 {n_features} 个): {rf_selected_features}')\n",
        "\n",
        "X_selected = X[:, rf_selected_features]\n",
        "print(f'X_selected shape: {X_selected.shape}')\n",
        "\n",
        "# 保存为 .npy 文件\n",
        "output_file = features_file.parent / 'features_selected' / f'{features_file.stem}_{method}.npy'\n",
        "np.save(output_file, X_selected)\n",
        "print(f'Saved to {output_file}')"
      ],
      "metadata": {
        "colab": {
          "base_uri": "https://localhost:8080/"
        },
        "id": "RxTYzhAecL9k",
        "outputId": "8b222d15-7457-435d-f96e-17a69434fdf9"
      },
      "execution_count": null,
      "outputs": [
        {
          "output_type": "stream",
          "name": "stdout",
          "text": [
            "RF 计算的每个特征重要度: [0.06257114 0.00980145 0.01447311 0.02618789 0.01854108 0.0160365\n",
            " 0.01418659 0.02421358 0.00666681 0.01526107 0.00345572 0.00575456\n",
            " 0.0037087  0.00729465 0.0048733  0.02037794 0.02663771 0.01710525\n",
            " 0.00875671 0.00961826 0.01313671 0.00848918 0.01214772 0.00959306\n",
            " 0.01016774 0.0091588  0.00312852 0.00395448 0.00296763 0.00364512\n",
            " 0.02749571 0.01096083 0.00250583 0.02737163 0.02538535 0.0315363\n",
            " 0.02292193 0.00612436 0.01458359 0.01159652 0.0074784  0.01527984\n",
            " 0.03485277 0.01130918 0.00256481 0.00724307 0.01592534 0.02508882\n",
            " 0.00288324 0.00347549 0.0038423  0.01141619 0.01664762 0.00955277\n",
            " 0.02072298 0.01182248 0.02542779 0.01361611 0.03063729 0.04292391\n",
            " 0.00923159 0.05025387 0.00715961 0.00831657 0.00673282 0.01029202\n",
            " 0.00383366 0.01176986 0.00506291 0.00224365]\n",
            "RF 选择的特征索引(共 30 个): [22 20 57  6  2 38  9 41 46  5 52 17  4 15 54 36  7 47 34 56  3 16 33 30\n",
            " 58 35 42 59 61  0]\n",
            "X_selected shape: (4746934, 30)\n",
            "Saved to /content/drive/MyDrive/NYIT/870/datasets/preprocessed/CSE-CIC-IDS2018/integrated/features_selected/trimed_X_standard_rf.npy\n"
          ]
        }
      ]
    },
    {
      "cell_type": "markdown",
      "source": [
        "## 方法2: XGBoost + SHAP\n",
        "\n",
        "\n",
        "* XGBoost 支持 GPU 计算 ⏩\n",
        "* 如果使用 GPU, `model.fit()` 只需要两分钟\n",
        "* 如果没有 GPU, `model.fit()` 需要20多分钟 (ಥ﹏ಥ)\n",
        "\n",
        "\n",
        "\n",
        "SHAP 选择的特征索引(共 30 个): [21 14 19  9 17 50 27 67 16 46  2 64 36 35 37  6 25 33  5  3 42 63 47 32\n",
        " 30 20 59 58 61  0]"
      ],
      "metadata": {
        "id": "TVIC7FkFCAUS"
      }
    },
    {
      "cell_type": "code",
      "source": [
        "from operator import mod\n",
        "import shap\n",
        "import gc\n",
        "import sys\n",
        "import xgboost as xgb\n",
        "import tensorflow as tf\n",
        "\n",
        "print(f\"Size of X: {sys.getsizeof(X) / (1024 ** 2):.2f} MB\")\n",
        "\n",
        "method = 'xgb'\n",
        "model_file = preprocessed_folder / f'models/features_selection_{method}.json'\n",
        "\n",
        "if not model_file.exists():\n",
        "    # 检查是否可以使用 GPU\n",
        "    gpu_available = len(tf.config.list_physical_devices('GPU')) > 0\n",
        "    print(f'GPU 是否可用: {gpu_available}')\n",
        "\n",
        "    # 如果 GPU 可用，则启用 XGBoost 的 GPU 加速\n",
        "    device = 'cuda' if gpu_available else 'cpu'\n",
        "\n",
        "    # 训练 XGBoost 模型\n",
        "    model = xgb.XGBClassifier(tree_method='hist', device=device, random_state=42)\n",
        "    model.fit(X, y)\n",
        "    print(f'XGBoost 模型训练完成')\n",
        "\n",
        "    # 保存模型\n",
        "    model.save_model(model_file)\n",
        "    print(f'XGBoost 模型保存到 {model_file}')\n",
        "else:\n",
        "    print(f'XGBoost 模型文件存在, 加载模型 {model_file}')\n",
        "    # 加载模型\n",
        "    model = xgb.XGBClassifier()\n",
        "    model.load_model(model_file)\n"
      ],
      "metadata": {
        "colab": {
          "base_uri": "https://localhost:8080/"
        },
        "id": "bqnQFbSYDf7c",
        "outputId": "acb1cc4a-e784-4020-ffdd-be17f8465ab5"
      },
      "execution_count": null,
      "outputs": [
        {
          "output_type": "stream",
          "name": "stdout",
          "text": [
            "Size of X: 1267.57 MB\n",
            "GPU 是否可用: True\n",
            "XGBoost 模型训练完成\n",
            "XGBoost 模型保存到 /content/drive/MyDrive/NYIT/870/datasets/preprocessed/CSE-CIC-IDS2018/models/features_selection_xgb.json\n"
          ]
        }
      ]
    },
    {
      "cell_type": "code",
      "source": [
        "method = 'shap'\n",
        "\n",
        "# 使用 SHAP 解释模型\n",
        "explainer = shap.TreeExplainer(model)\n",
        "# todo!\n",
        "# explainer = shap.TreeExplainer(model, data=x_train.sample(1000))\n",
        "# 有的人是这么个写法，额外给了 data 参数，\n",
        "# 那 data 参数怎么从 X 中提取呢？随机提取？还是按 y 比例提取？感觉这也是得不停调参的。😓\n",
        "\n",
        "# 分批计算 SHAP 值\n",
        "batch_size = 500000\n",
        "total_samples = 0\n",
        "running_sum = np.zeros((X.shape[1], ))\n",
        "print(f'running_sum.shape: {running_sum.shape}')\n",
        "\n",
        "\n",
        "for i in range(0, len(X), batch_size):\n",
        "    print(f'Processing batch {i // batch_size + 1}/{len(X) // batch_size + 1}')\n",
        "    batch = X[i:i + batch_size]\n",
        "    print(f'  batch.shape: {batch.shape}')\n",
        "\n",
        "    shap_values_batch = explainer.shap_values(batch)\n",
        "    print(f'  shap_values_batch.shape: {shap_values_batch.shape}')\n",
        "    # shap 的尺寸是三维的 (sampels_number, features_number, labels_number)\n",
        "    # 所以才会特别占用内存！！\n",
        "\n",
        "    # 计算没 batch 数据的特征重要性\n",
        "    batch_feature_importance = np.abs(shap_values_batch).mean(axis=(0, 2))  # 先对 batch 维度求均值，再对类别求均值\n",
        "    # todo!\n",
        "    # 这里不是很对，这里的两次计算都是算术平均 mean()。\n",
        "    # 对 样本纬度 求算术平均可以理解，\n",
        "    # 但是对 类别纬度 求算术平均，这就没有考虑到不同类别的标签的不平衡性啊，这该怎么处理呢？怎么个加权法？\n",
        "\n",
        "    # 按样本数加权\n",
        "    running_sum += batch_feature_importance * batch.shape[0]\n",
        "    total_samples += batch.shape[0]\n",
        "\n",
        "    print(f'Batch {i // batch_size + 1}/{len(X) // batch_size + 1} done')\n",
        "    pass\n",
        "\n",
        "# 计算特征重要性\n",
        "feature_importance = running_sum / total_samples\n",
        "print(f'feature_importance {feature_importance.shape}: {feature_importance}')\n",
        "\n",
        "# 选择前 n 个重要特征\n",
        "selected_features = np.argsort(feature_importance)[-n_features:]\n",
        "print(f'SHAP 选择的特征索引(共 {n_features} 个): {selected_features}')\n",
        "\n",
        "X_selected = X[:, selected_features]\n",
        "print(f'X_selected shape: {X_selected.shape}')\n",
        "\n",
        "# 保存为 .npy 文件\n",
        "output_file = features_file.parent / 'features_selected' / f'{features_file.stem}_{method}.npy'\n",
        "np.save(output_file, X_selected)\n",
        "print(f'Saved to {output_file}')"
      ],
      "metadata": {
        "colab": {
          "base_uri": "https://localhost:8080/",
          "height": 233
        },
        "id": "f3GkEWSig2bz",
        "outputId": "627cf236-331b-4b3b-97cd-51b323f49a71"
      },
      "execution_count": null,
      "outputs": [
        {
          "output_type": "stream",
          "name": "stdout",
          "text": [
            "running_sum.shape: (70,)\n"
          ]
        },
        {
          "output_type": "error",
          "ename": "AttributeError",
          "evalue": "'numpy.ndarray' object has no attribute 'value_counts'",
          "traceback": [
            "\u001b[0;31m---------------------------------------------------------------------------\u001b[0m",
            "\u001b[0;31mAttributeError\u001b[0m                            Traceback (most recent call last)",
            "\u001b[0;32m<ipython-input-7-475327f54d17>\u001b[0m in \u001b[0;36m<cell line: 0>\u001b[0;34m()\u001b[0m\n\u001b[1;32m      8\u001b[0m \u001b[0mprint\u001b[0m\u001b[0;34m(\u001b[0m\u001b[0;34mf'running_sum.shape: {running_sum.shape}'\u001b[0m\u001b[0;34m)\u001b[0m\u001b[0;34m\u001b[0m\u001b[0;34m\u001b[0m\u001b[0m\n\u001b[1;32m      9\u001b[0m \u001b[0;34m\u001b[0m\u001b[0m\n\u001b[0;32m---> 10\u001b[0;31m \u001b[0mprint\u001b[0m\u001b[0;34m(\u001b[0m\u001b[0my\u001b[0m\u001b[0;34m.\u001b[0m\u001b[0mvalue_counts\u001b[0m\u001b[0;34m(\u001b[0m\u001b[0;34m)\u001b[0m\u001b[0;34m)\u001b[0m\u001b[0;34m\u001b[0m\u001b[0;34m\u001b[0m\u001b[0m\n\u001b[0m\u001b[1;32m     11\u001b[0m \u001b[0;32massert\u001b[0m \u001b[0;32mFalse\u001b[0m\u001b[0;34m\u001b[0m\u001b[0;34m\u001b[0m\u001b[0m\n\u001b[1;32m     12\u001b[0m \u001b[0;34m\u001b[0m\u001b[0m\n",
            "\u001b[0;31mAttributeError\u001b[0m: 'numpy.ndarray' object has no attribute 'value_counts'"
          ]
        }
      ]
    },
    {
      "cell_type": "markdown",
      "source": [
        "## 方法3: Mutual Info Selection (基于互信息的特征选择)\n",
        "这个也无法利用 GPU 加速 (´･_･`)\n",
        "\n",
        "* 直接对全部数据调用 fit(X, y) 方法会耗尽 12GB 的内存。\n",
        "* 即使分片计算，因为 sklearn 无法使用 GPU，耗时需要60分钟+。。。\n",
        "\n",
        "MI 选择的特征索引(共 30 个): [39 41 40 51 64  7 65 10  8 37  9 52 13 53 38 62 33 54  3 36 50 34 59 56\n",
        " 58  4 46 45  0 61]\n",
        "\n"
      ],
      "metadata": {
        "id": "koA-CgZaHgwp"
      }
    },
    {
      "cell_type": "code",
      "source": [
        "from sklearn.feature_selection import SelectKBest, mutual_info_classif\n",
        "from tqdm.notebook import tqdm\n",
        "\n",
        "method = 'mi'\n",
        "batch_size = 500000\n",
        "\n",
        "# 计算互信息\n",
        "def compute_mutual_info(X, y, batch_size):\n",
        "    n_rows, n_columns = X.shape\n",
        "    scores = np.zeros(n_columns)  # 初始化特征分数\n",
        "\n",
        "    for i in tqdm(range(0, n_rows, batch_size), desc=\"Computing MI\"):\n",
        "        X_batch = X[i:i+batch_size]\n",
        "        y_batch = y[i:i+batch_size]\n",
        "        batch_scores = mutual_info_classif(X_batch, y_batch, discrete_features='auto')\n",
        "        scores += batch_scores  # 累积分数\n",
        "\n",
        "    return scores / (n_rows / batch_size)  # 归一化\n",
        "\n",
        "\n",
        "# 互信息选择\n",
        "mi_scores = compute_mutual_info(X, y, batch_size)\n",
        "print(f'MI 计算每个特征的评分: {mi_scores}')\n",
        "\n",
        "mi_selected_features = np.argsort(mi_scores)[-n_features:]  # 取前 n_features 个高分特征)\n",
        "print(f'MI 选择的特征索引(共 {n_features} 个): {mi_selected_features}')\n",
        "\n",
        "X_selected = X[:, mi_selected_features]\n",
        "print(f'X_selected shape: {X_selected.shape}')\n",
        "\n",
        "# 保存为 .npy 文件\n",
        "output_file = features_file.parent / 'features_selected' / f'{features_file.stem}_{method}.npy'\n",
        "np.save(output_file, X_selected)\n",
        "print(f'Saved to {output_file}')\n"
      ],
      "metadata": {
        "id": "Oqld5wm3H7QC",
        "colab": {
          "base_uri": "https://localhost:8080/",
          "height": 355,
          "referenced_widgets": [
            "dbd8f18f58a349178cf13a712d6a2c86",
            "9d69e5c28df945e3857003445325fa89",
            "71edd1b966c64c78afd7d10361061942",
            "c0a9040fafdc4c4d914a49b7734464ab",
            "8b50a7498fe84cc88185cf449a3c3196",
            "2815aff83cea47eeb30cf8dcddbfeb15",
            "f8ea7fdabd294b54a9dd1e94b3e6710a",
            "0a9fba540d6a4d399cec926ff83eee61",
            "1a18b8498851415aa77f434d450e68fa",
            "4462be30eee14c4caeb8434107b5b759",
            "311f681de0aa4310ae49be6b72c4a56a"
          ]
        },
        "outputId": "d0994393-648d-491e-d43e-7f6e168cc1d7"
      },
      "execution_count": null,
      "outputs": [
        {
          "output_type": "display_data",
          "data": {
            "text/plain": [
              "Computing MI:   0%|          | 0/10 [00:00<?, ?it/s]"
            ],
            "application/vnd.jupyter.widget-view+json": {
              "version_major": 2,
              "version_minor": 0,
              "model_id": "dbd8f18f58a349178cf13a712d6a2c86"
            }
          },
          "metadata": {}
        },
        {
          "output_type": "stream",
          "name": "stdout",
          "text": [
            "MI 计算每个特征的评分: [0.39467743 0.36399015 0.35162157 0.37668707 0.39108356 0.35336246\n",
            " 0.35925176 0.36760243 0.36877455 0.36966063 0.36866435 0.36332722\n",
            " 0.35711717 0.36986237 0.36321645 0.35035122 0.36174409 0.35557549\n",
            " 0.3548249  0.35725014 0.35911897 0.35592346 0.35790976 0.35660028\n",
            " 0.360194   0.36024976 0.34480358 0.35114199 0.34219003 0.34891858\n",
            " 0.35280678 0.3546686  0.11147108 0.37585817 0.38778328 0.36169763\n",
            " 0.37812503 0.36902266 0.37097913 0.36493591 0.36558213 0.36519635\n",
            " 0.34903659 0.35470439 0.36086469 0.39436991 0.39370265 0.35615636\n",
            " 0.11153143 0.36089614 0.38356591 0.36625822 0.36967515 0.36996453\n",
            " 0.37668138 0.35337201 0.39103255 0.35923027 0.39106762 0.3883033\n",
            " 0.35312196 0.40428788 0.37187487 0.35947869 0.36729059 0.36838061\n",
            " 0.35452924 0.35222781 0.35431205 0.35566636]\n",
            "MI 选择的特征索引(共 30 个): [39 41 40 51 64  7 65 10  8 37  9 52 13 53 38 62 33 54  3 36 50 34 59 56\n",
            " 58  4 46 45  0 61]\n",
            "X_selected shape: (4746934, 30)\n",
            "Saved to /content/drive/MyDrive/NYIT/870/datasets/preprocessed/CSE-CIC-IDS2018/integrated/features_selected/trimed_X_standard_mi.npy\n"
          ]
        }
      ]
    }
  ]
}