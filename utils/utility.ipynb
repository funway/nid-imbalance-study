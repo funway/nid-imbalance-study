{
  "nbformat": 4,
  "nbformat_minor": 0,
  "metadata": {
    "colab": {
      "provenance": [],
      "authorship_tag": "ABX9TyO/f94x+CrtQcx4D+xuazK5",
      "include_colab_link": true
    },
    "kernelspec": {
      "name": "python3",
      "display_name": "Python 3"
    },
    "language_info": {
      "name": "python"
    }
  },
  "cells": [
    {
      "cell_type": "markdown",
      "metadata": {
        "id": "view-in-github",
        "colab_type": "text"
      },
      "source": [
        "<a href=\"https://colab.research.google.com/github/funway/nid-imbalance-study/blob/main/utils/utility.ipynb\" target=\"_parent\"><img src=\"https://colab.research.google.com/assets/colab-badge.svg\" alt=\"Open In Colab\"/></a>"
      ]
    },
    {
      "cell_type": "markdown",
      "source": [
        "# 通用函数封装\n",
        "🚀 NYIT 880 | 🧑🏻‍💻 funway\n",
        "\n",
        "- **该文件只定义 全局常量，函数 或 类** ‼️\n",
        "- 在其他 ipynb 文件中运行 `%run full_path/file_name.ipynb` 即可导入该文件中的函数与类\n",
        "- 由于 Google Drive 的写入缓存, 所以修改该文件后, 可能需要等待一定时间(几十秒), 在引用处才会生效"
      ],
      "metadata": {
        "id": "NKgFTXdwxlUy"
      }
    },
    {
      "cell_type": "code",
      "source": [
        "utility_version = '1.0.1'\n",
        "print(f'导入 utility.ipynb 模块. version {utility_version}')"
      ],
      "metadata": {
        "colab": {
          "base_uri": "https://localhost:8080/"
        },
        "id": "E1rg_gqHA4tK",
        "outputId": "a69eb36d-a19d-4b47-c296-2772bbb21120"
      },
      "execution_count": null,
      "outputs": [
        {
          "output_type": "stream",
          "name": "stdout",
          "text": [
            "导入 utility.ipynb 模块. version 1.0.1\n"
          ]
        }
      ]
    },
    {
      "cell_type": "markdown",
      "source": [
        "## 常量"
      ],
      "metadata": {
        "id": "TmjCHVJh7DD4"
      }
    },
    {
      "cell_type": "code",
      "source": [
        "\"\"\"\n",
        "原始训练集数据分布\n",
        "X_train shape: (3797547, 70)\n",
        "y_train labels: {0: 1600000, 1: 228953, 2: 489, 3: 184, 4: 548809, 5: 1384, 6: 460953, 7: 33206, 8: 369530, 9: 111912, 10: 8792, 11: 154683, 12: 128511, 13: 70, 14: 150071}\n",
        "\"\"\"\n",
        "\n",
        "## 计划尝试三种样本分布模式\n",
        "resample_schemes = {\n",
        "    # 模式1. (标签0:非0标签总和) ≈ (160:157); 非0标签按大概比例增强\n",
        "    1: {\n",
        "        0: 1600000, 1: 200000, 2: 20000, 3: 20000, 4: 200000,\n",
        "        5: 20000, 6: 200000, 7: 100000, 8: 200000, 9: 111912,\n",
        "        10: 50000, 11: 154683, 12: 128511, 13: 20000, 14: 150071\n",
        "        },\n",
        "\n",
        "    # 模式2. 最终结果极少数类都有 2% 的占比\n",
        "    2: {\n",
        "        0: 800000, 1: 200000, 2: 50000, 3: 50000, 4: 200000,\n",
        "        5: 50000, 6: 200000, 7: 100000, 8: 200000, 9: 110000,\n",
        "        10: 50000, 11: 150000, 12: 120000, 13: 50000, 14: 150000\n",
        "        },\n",
        "\n",
        "    # 模式3. 基于模式2, 额外删除标签0与中位数类(9, 11, 12)\n",
        "    3: {\n",
        "        0: 400000, 1: 200000, 2: 50000, 3: 50000, 4: 200000,\n",
        "        5: 50000, 6: 200000, 7: 100000, 8: 200000, 9: 100000,\n",
        "        10: 50000, 11: 100000, 12: 100000, 13: 50000, 14: 150000\n",
        "        },\n",
        "\n",
        "    # 模式4. 基于模式1, 额外删除一些质量不好的中位数类(9, 12)\n",
        "    4: {\n",
        "        0: 1600000, 1: 200000, 2: 20000, 3: 20000, 4: 200000,\n",
        "        5: 20000, 6: 200000, 7: 100000, 8: 200000, 9: 100000,\n",
        "        10: 50000, 11: 154683, 12: 100000, 13: 20000, 14: 150071\n",
        "        },\n",
        "\n",
        "    # 模式5. 基于模式1, 使用 CGAN 增加一些质量不好的中位数类(9, 12)，让他在分类训练中比重增大。？\n",
        "    5: {\n",
        "        0: 1600000, 1: 200000, 2: 20000, 3: 20000, 4: 200000,\n",
        "        5: 20000, 6: 200000, 7: 100000, 8: 200000, 9: 160000,\n",
        "        10: 50000, 11: 154683, 12: 200000, 13: 20000, 14: 150071\n",
        "        },\n",
        "\n",
        "    # 模式6. 基于模式2，额外增加中位数类 9, 12\n",
        "    6: {\n",
        "        0: 800000, 1: 200000, 2: 50000, 3: 50000, 4: 200000,\n",
        "        5: 50000, 6: 200000, 7: 100000, 8: 200000, 9: 200000,\n",
        "        10: 50000, 11: 150000, 12: 200000, 13: 50000, 14: 150000\n",
        "        },\n",
        "\n",
        "    # 模式7. 只增加初始识别率低的类\n",
        "    7: {\n",
        "        3: 20_000, 9: 200_000, 11: 200_000,\n",
        "        12: 200_000, 13: 20_000,\n",
        "    }\n",
        "\n",
        "}\n",
        "\n",
        "ros_schemes = {\n",
        "    1: {2: 1000, 3: 500, 13: 500},\n",
        "    2: {2: 2000, 3: 1000, 13: 1000, 5: 2000},\n",
        "}\n",
        "\n",
        "cgan_filter_schemes = {\n",
        "    1: {9: 80_000, 12: 80_000},\n",
        "    2: {9: 100_000, 12: 110_000},\n",
        "    3: {9: 110_000, 12: 120_000},\n",
        "}"
      ],
      "metadata": {
        "id": "YOSWn2yX7GKZ"
      },
      "execution_count": null,
      "outputs": []
    },
    {
      "cell_type": "markdown",
      "source": [
        "## 函数"
      ],
      "metadata": {
        "id": "JQqfktni7AjB"
      }
    },
    {
      "cell_type": "code",
      "execution_count": null,
      "metadata": {
        "id": "HPnAbbuexdD4"
      },
      "outputs": [],
      "source": [
        "import numpy as np\n",
        "from collections import Counter\n",
        "from io import StringIO\n",
        "\n",
        "def get_label_counts(y: np.ndarray) -> dict[int, int]:\n",
        "    \"\"\"获取标签向量 y 中每个类别样本数量\"\"\"\n",
        "    return {int(k): v for k, v in sorted(Counter(y).items())}\n",
        "\n",
        "def now() -> str:\n",
        "    \"\"\"获取当前时间\"\"\"\n",
        "    from datetime import datetime\n",
        "    from zoneinfo import ZoneInfo\n",
        "    return datetime.now(tz=ZoneInfo('America/Vancouver')).strftime('%x %X %Z')\n",
        "\n",
        "\n",
        "def is_run_by_run_magic() -> bool:\n",
        "    \"\"\"\n",
        "    判断当前 ipynb 文件是否被 %run 调用\n",
        "\n",
        "    Returns:\n",
        "        bool: True 表示被 %run 调用, False 表示直接运行\n",
        "    \"\"\"\n",
        "    try:\n",
        "        _ = __file__  # 尝试访问 __file__ 变量\n",
        "        return True   # 能访问说明当前脚本是被其他代码文件使用 %run 运行的\n",
        "    except NameError:\n",
        "        return False  # 未定义则说明当前脚本是直接运行的"
      ]
    },
    {
      "cell_type": "markdown",
      "source": [
        "## 测试"
      ],
      "metadata": {
        "id": "dcFtjYLA6yz-"
      }
    },
    {
      "cell_type": "code",
      "source": [
        "if __name__ == \"__main__\":\n",
        "  # print('main guard 在 Jupyter Notebook 中是否有效?')\n",
        "\n",
        "  # ⚠️ 无效 ⚠️\n",
        "  # 不论是直接运行 还是在其他文件中使用 %run 运行，都会进入 main guard 代码块\n",
        "  pass"
      ],
      "metadata": {
        "id": "cy92VgJOAUUn"
      },
      "execution_count": null,
      "outputs": []
    },
    {
      "cell_type": "code",
      "source": [
        "if not is_run_by_run_magic():\n",
        "  print('=== 在该判断条件下的代码将不会被 %run 执行 ===')\n",
        "\n",
        "  # 在这里写测试代码是 OK 的\n",
        "\n",
        "  pass"
      ],
      "metadata": {
        "colab": {
          "base_uri": "https://localhost:8080/"
        },
        "id": "UtVJwsvsEK5n",
        "outputId": "768fb0ac-87b4-470e-ca27-9a4b6c1985d7"
      },
      "execution_count": null,
      "outputs": [
        {
          "output_type": "stream",
          "name": "stdout",
          "text": [
            "=== 在该判断条件下的代码将不会被 %run 执行 ===\n"
          ]
        }
      ]
    }
  ]
}